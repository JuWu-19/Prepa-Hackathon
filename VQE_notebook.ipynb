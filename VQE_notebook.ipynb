{
 "cells": [
  {
   "cell_type": "markdown",
   "metadata": {},
   "source": [
    "# The Variational Quantum Eigensolver algorithm"
   ]
  },
  {
   "cell_type": "markdown",
   "metadata": {},
   "source": [
    "In this notebook we are going to see an example of the Variational Quantum Eigensolver algorithm, a hybrid algorithm presented for the first time by [Peruzzo et al. in 2014](https://www.nature.com/articles/ncomms5213). \n",
    "\n",
    "This algorithm can be used, as we are going to see, to [find out the ground state energy of physical and chemical systems](https://www.nature.com/articles/nature23879)."
   ]
  },
  {
   "cell_type": "code",
   "execution_count": 2,
   "metadata": {},
   "outputs": [],
   "source": [
    "# Import useful quantities \n",
    "\n",
    "import numpy as np\n",
    "import matplotlib.pyplot as plt\n",
    "import seaborn as sns\n",
    "sns.set_style('darkgrid')\n",
    "import qiskit\n",
    "from qiskit.circuit import QuantumCircuit,ClassicalRegister, QuantumRegister\n",
    "\n",
    "import itertools\n",
    "\n",
    "\n",
    "# Some new useful methods\n",
    "\n",
    "from Hamiltonian import generate_XYZ\n",
    "from ansatz import *\n",
    "from test_ansatz_faster_cvg import *\n",
    "\n",
    "\n",
    "from qiskit.opflow.gradients           import Gradient\n",
    "from qiskit.opflow.state_fns           import CircuitStateFn, StateFn\n",
    "from qiskit.opflow.expectations        import PauliExpectation\n",
    "from qiskit.opflow.converters          import CircuitSampler"
   ]
  },
  {
   "cell_type": "markdown",
   "metadata": {},
   "source": [
    "We are going to study the Ising Hamiltonian with XX interactions and a magnetic field in the z direction, using the VQE to find its ground state energy.\n",
    "\n",
    "### How does the algorithm works?\n",
    "\n",
    "Consider a system with Hamiltonian $H$, we know that its ground state energy is \n",
    "\n",
    "\\begin{equation}\n",
    "E_{0} = \\langle \\psi_{0} | H | \\psi_{0} \\rangle \\leq \\langle \\psi | H | \\psi \\rangle \\quad \\quad \\forall |\\psi \\rangle\n",
    "\\end{equation}\n",
    "\n",
    "considering both $|\\psi_0 \\rangle$ and $|\\psi \\rangle$ normalized. This means that every state we are going to prepare on our quantum computer will have an expectation value of the Hamiltonian operator (energy) greater or equal than the ground state energy. This is known as the variational principle and let us find the ground state energy as a optimization problem, in which the function to minimize is \n",
    "\n",
    "\\begin{equation}\n",
    "L(\\psi) = \\langle \\psi | H | \\psi \\rangle\n",
    "\\end{equation}\n",
    "\n",
    "But how can we effectively minimize this function with the aid of a quantum computer?\n",
    "\n",
    "- As a first thing, we consider an ansatz of the wavefunction describing the state of the system, which will depend upon some parametrized quantum gates in the case of a quantum computer, obtaining the parametrized state $U(w)|\\psi \\rangle =|\\psi(w) \\rangle $\n",
    "- then we are going to measure the energy of this state and its gradient with respect to the parameters using the quantum computer\n",
    "- we will feed these information to a classical computer, which will perform the optimization of the parameters by using classical optimization strategies such as gradient descent\n",
    "- the newly optimized parameters are then used to prepare a new quantum state on which we are going to measure again energy and gradient. This procedure is repeated until convergence of the algorithm."
   ]
  },
  {
   "cell_type": "markdown",
   "metadata": {},
   "source": [
    "### The Ising hamiltonian\n",
    "In this challenge we would like to compute the groundstate of the Transverse field Ising model given by the Hamiltonian\n",
    "\\begin{equation}\n",
    "H=J_z\\sum_{i=0}^{N}\\sigma_i^z\\sigma_{i+1}^z + h\\sum_{i=0}^{N}\\sigma_i^x,\n",
    "\\end{equation}\n",
    "where we will assume periodic boundary conditions (pbc). In this exercice, you would need to implement the VQE algorithm to compute the groundstate energy as a function of h. You will then use it to compute the first excited states in order to explore the phase transition from the antiferromagnetic to the ferromagnetic phase. \n",
    " "
   ]
  },
  {
   "cell_type": "code",
   "execution_count": 3,
   "metadata": {},
   "outputs": [],
   "source": [
    "H = generate_XYZ(J_x=0, J_y=0,J_z=1,field=1,n_spins=3,pbc=True)\n"
   ]
  },
  {
   "cell_type": "markdown",
   "metadata": {},
   "source": [
    "### The Ansatz\n",
    "Now that we have the Hamiltonian operator, we will need an ansatz for our wavefunction. In quantum computing, an ansatz is a circuit that at the end will produce a qubit state $|\\psi \\rangle$. In this case, we need a variational ansatz, so some gates will contains parameters that are going to be iteratively optimized (as an example, rotation on the $x,y,z$ axis).\n",
    "\n",
    "There is no analytical way to choose an ansatz for the system: there are empirical rules based on similarity with what we are studying.\n",
    "Some ans&auml;tze come from classical computational chemistry, such as the highly accurate [q-UCCSD](https://arxiv.org/pdf/1506.00443.pdf),  but mostly we have to consider some circuits that can be run on current devices, so they have to contain few two qubits gates and be relatively shallow: these ans&auml;tze are called hardware-efficient.\n",
    "\n",
    "\n",
    "What we are going to consider is one of the so-called hardware-efficient ans&auml;tze. \n",
    "The system does not contain many qubits, so our trial ansatz will be very simple : a layer of rotations around the $y$-axis followed by CNOTs and again a layer of rotations. This simple structure can be easily extended both in depth (adding more CNOTs and rotation) and in width, to study bigger system, therefore is widely used."
   ]
  },
  {
   "cell_type": "code",
   "execution_count": 4,
   "metadata": {},
   "outputs": [
    {
     "data": {
      "image/png": "[encoded data removed]",
      "text/plain": [
       "<Figure size 267.197x204.68 with 1 Axes>"
      ]
     },
     "execution_count": 4,
     "metadata": {},
     "output_type": "execute_result"
    }
   ],
   "source": [
    "#Draw an example\n",
    "\n",
    "\n",
    "example = feature_map_ansatz(np.random.rand(13),n_spins=3,n_layer=1,full_rotation=True)\n",
    "example = test_ansatz(np.random.rand(13),n_spins=3,n_layer=1,full_rotation=True,test_number=2)\n",
    "example.draw('mpl', style={'name': 'iqx'})"
   ]
  },
  {
   "cell_type": "markdown",
   "metadata": {},
   "source": [
    "### Measuring the Energy\n",
    "\n",
    "We want a circuit to measure the expecation value of the Hamiltonian on our trial state"
   ]
  },
  {
   "cell_type": "code",
   "execution_count": 5,
   "metadata": {},
   "outputs": [],
   "source": [
    "def energy(n_qubits,n_layer, op,ansatz,params,shots,instance):\n",
    "    \n",
    "    #Make the operator measurable\n",
    "    op = StateFn(op,is_measurement = True)\n",
    "    \n",
    "    # create the wavefunction\n",
    "    wfn = CircuitStateFn(ansatz(parameter=params,n_spins=n_qubits,n_layer=n_layer,full_rotation=True))\n",
    "    braket = op @ wfn  #matrix product\n",
    "    \n",
    "    # Simulate the sampling\n",
    "    grouped = PauliExpectation().convert(braket)\n",
    "    sampled_op = CircuitSampler(instance).convert(grouped)\n",
    "    \n",
    "    # Expectation value\n",
    "    mean_value = sampled_op.eval().real\n",
    "    est_err = 0\n",
    "    \n",
    "    # If the simulations is not unitary evolution, return an error bar\n",
    "    if (not instance.is_statevector):\n",
    "        variance = PauliExpectation().compute_variance(sampled_op).real\n",
    "        est_err  = np.sqrt(variance/shots)\n",
    "\n",
    "    return mean_value, est_err"
   ]
  },
  {
   "cell_type": "markdown",
   "metadata": {},
   "source": [
    "### Measuring derivatives\n",
    "\n",
    "Now things get interesting! In order to optimize our parameters, a quantum computer has to give to classical optimizer important information such as first- or second-order derivatives! But how can we measure the derivative wrt to a specific parameter on a quantum circuit?\n",
    "\n",
    "$$\n",
    "\\frac{\\partial }{\\partial w_i} L(w) = \\frac{\\partial }{\\partial w_i} \\langle \\psi(w) | H | \\psi(w) \\rangle\n",
    "$$\n",
    "\n",
    "many different methods have been proposed recently, in this case we are going to see a method  that is called _parameter shift_:\n",
    "\n",
    "- assume that every parametrized gate is of the form $$ U_j(w_j) = e^{-i w_j G_j}= \\cos(w_j)\\mathbf{I} -i \\sin(w_j)G_j$$ where $G_j$ is an operator such that $G_{j}^{2} = \\mathbf{I}$\n",
    "\n",
    "- then the derivative can be expressed as $$ \\frac{\\partial }{\\partial w_i} L(w) = \\frac{L(w+ e_i s)-L(w-e_is)}{2\\sin(s)}  $$ where $s \\in \\mathbf{R}$ and $e_i$ indicates the versor in the $i$-th direction. In our case we are going to consider $s= \\frac{\\pi}{2}$.\n",
    "\n",
    "This means that to calculate the gradient with $N_p$ parameters, we have to measure $H$ on $2N_p$ different circuits, but it's possible!\n",
    "\n",
    "Note that the assumption we made is quite general: $G_j$ could be every tensor product of Pauli operators\n",
    "\n"
   ]
  },
  {
   "cell_type": "code",
   "execution_count": 6,
   "metadata": {},
   "outputs": [],
   "source": [
    "#useful function to shift the parameters\n",
    "def ei(i,n):\n",
    "    vi = np.zeros(n)\n",
    "    vi[i] = 1.0\n",
    "    return vi[:]\n",
    "\n",
    "\n",
    "def gradient(n_qubits,n_layer,op,ansatz,params,shots,instance):\n",
    "    \n",
    "    n_params = len(params)\n",
    "    wfn_circuits = []\n",
    "    op = StateFn(op,is_measurement = True)\n",
    "    \n",
    "    for i in range(n_params):\n",
    "        wfn_circuits.append(CircuitStateFn(ansatz(params+ei(i,n_params)*np.pi/2.0,n_spins=n_qubits,n_layer=n_layer,full_rotation=True)))\n",
    "        wfn_circuits.append(CircuitStateFn(ansatz(params-ei(i,n_params)*np.pi/2.0,n_spins=n_qubits,n_layer=n_layer,full_rotation=True)))\n",
    "\n",
    "    # Now measure circuits\n",
    "    results = []\n",
    "    for wfn in wfn_circuits:\n",
    "        braket = op @ wfn\n",
    "    \n",
    "        # Simulate the sampling\n",
    "        grouped = PauliExpectation().convert(braket)\n",
    "        sampled_op = CircuitSampler(instance).convert(grouped)\n",
    "    \n",
    "        # Expectation value\n",
    "        mean_value = sampled_op.eval().real\n",
    "        est_err = 0\n",
    "    \n",
    "        # If the simulations is not unitary evolution, return an error bar\n",
    "        if (not instance.is_statevector):\n",
    "            variance = PauliExpectation().compute_variance(sampled_op).real\n",
    "            est_err  = np.sqrt(variance/shots)\n",
    "\n",
    "        results.append([mean_value, est_err])\n",
    "    \n",
    "    g = np.zeros((n_params,2))\n",
    "    for i in range(n_params):\n",
    "        rplus  = results[2*i]\n",
    "        rminus = results[2*i+1]\n",
    "        # G      = (Ep - Em)/2\n",
    "        # var(G) = var(Ep) * (dG/dEp)**2 + var(Em) * (dG/dEm)**2\n",
    "        g[i,:] = (rplus[0]-rminus[0])/2.0,np.sqrt(rplus[1]**2+rminus[1]**2)/2.0\n",
    "\n",
    "    return g"
   ]
  },
  {
   "cell_type": "markdown",
   "metadata": {},
   "source": [
    "### The algorithm\n",
    "\n",
    "Now we declare a function to repeat iteratively the procedure of measuring energy, its gradient and then optimizing the parameters using a standard gradient descent technique, namely $$ w_{new}= w_{old} - \\eta \\nabla_{w} L(w)$$ with $\\eta \\in \\mathbf{R}$ as the learning rate."
   ]
  },
  {
   "cell_type": "code",
   "execution_count": 7,
   "metadata": {},
   "outputs": [],
   "source": [
    "def VQE(n_qubits,n_layer,op,ansatz,params,shots,instance,lr,n_reps):\n",
    "    \n",
    "    log ={}\n",
    "    log['energies'] = []\n",
    "    log['err_energies'] = []\n",
    "    log['gradients'] = []\n",
    "    \n",
    "    curr_params = params\n",
    "    for i in range(n_reps):\n",
    "        #Measure energy and save it\n",
    "        \n",
    "        E = energy(n_qubits,n_layer,op,ansatz,curr_params,shots,instance)\n",
    "        if i%10==0:\n",
    "            print('Run number: ',i+1)\n",
    "            print('Energy:', E[0])\n",
    "            print('========================= \\n')\n",
    "        log['energies'].append(E[0])\n",
    "        log['err_energies'].append(E[1])\n",
    "        \n",
    "        #Measure gradients\n",
    "        g = gradient(n_qubits,n_layer,op,ansatz,curr_params,shots,instance)\n",
    "        \n",
    "        log['gradients'].append(g[:,0])\n",
    "#         print(g)\n",
    "        \n",
    "        #Update parameters\n",
    "        \n",
    "        curr_params = curr_params - lr*g[:,0]\n",
    "        \n",
    "    return log"
   ]
  },
  {
   "cell_type": "markdown",
   "metadata": {},
   "source": [
    "### Run and plots the results"
   ]
  },
  {
   "cell_type": "code",
   "execution_count": 8,
   "metadata": {},
   "outputs": [],
   "source": [
    "from qiskit import Aer\n",
    "from qiskit.utils import QuantumInstance\n",
    "from qiskit import IBMQ\n",
    "from qiskit.compiler import transpile, assemble\n",
    "from qiskit.providers.ibmq import least_busy\n",
    "\n",
    "exact_backend = Aer.get_backend('statevector_simulator')\n",
    "qasm_backend = Aer.get_backend('qasm_simulator')\n",
    "qasm_instance = QuantumInstance(qasm_backend, seed_simulator=2, seed_transpiler=2)\n",
    "exact_instance = QuantumInstance(exact_backend, seed_simulator=2, seed_transpiler=2)"
   ]
  },
  {
   "cell_type": "code",
   "execution_count": 9,
   "metadata": {},
   "outputs": [],
   "source": [
    "token='my_token'\n",
    "IBMQ.save_account(token)\n",
    "provider = IBMQ.load_account()"
   ]
  },
  {
   "cell_type": "code",
   "execution_count": 16,
   "metadata": {},
   "outputs": [],
   "source": [
    "# Fix important parameters and the instance\n",
    "\n",
    "n_qubits = 3\n",
    "\n",
    "shots    = 1000\n",
    "n_reps   = 50\n",
    "lr       = 0.5 #0.05\n",
    "n_layer  = 3\n",
    "\n",
    "length = n_layer*(3*n_qubits + len(possible_pair('full',2,n_qubits)))\n",
    "params   = np.random.rand(length)"
   ]
  },
  {
   "cell_type": "code",
   "execution_count": 11,
   "metadata": {},
   "outputs": [],
   "source": [
    "quantum_instance = least_busy(provider.backends(filters=lambda x: x.configuration().n_qubits >= n_qubits and \n",
    "                                   not x.configuration().simulator and x.status().operational==True))\n",
    "quantum_instance"
   ]
  },
  {
   "cell_type": "code",
   "execution_count": null,
   "metadata": {},
   "outputs": [
    {
     "name": "stdout",
     "output_type": "stream",
     "text": [
      "Run number:  1\n",
      "Energy: -0.5676821934915902\n",
      "========================= \n",
      "\n",
      "Run number:  11\n",
      "Energy: -1.499760943483224\n",
      "========================= \n",
      "\n",
      "Run number:  21\n",
      "Energy: -1.4997924280539763\n",
      "========================= \n",
      "\n"
     ]
    }
   ],
   "source": [
    "res = VQE(n_qubits,n_layer,H,test_ansatz,params,shots,exact_instance,lr,n_reps)"
   ]
  },
  {
   "cell_type": "code",
   "execution_count": null,
   "metadata": {},
   "outputs": [],
   "source": [
    "res_quasm= VQE(n_qubits,n_layer,H,feature_map_ansatz,params,shots,qasm_instance,lr,n_reps)"
   ]
  },
  {
   "cell_type": "code",
   "execution_count": null,
   "metadata": {},
   "outputs": [],
   "source": [
    "res_quantum= VQE(n_qubits,n_layer,H,feature_map_ansatz,params,shots,quantum_instance,lr,n_reps)"
   ]
  },
  {
   "cell_type": "code",
   "execution_count": 15,
   "metadata": {},
   "outputs": [
    {
     "data": {
      "image/png": "[encoded data removed]",
      "text/plain": [
       "<Figure size 432x288 with 1 Axes>"
      ]
     },
     "metadata": {},
     "output_type": "display_data"
    },
    {
     "data": {
      "text/plain": [
       "<Figure size 432x288 with 0 Axes>"
      ]
     },
     "metadata": {},
     "output_type": "display_data"
    }
   ],
   "source": [
    "##Plot the results\n",
    "\n",
    "steps = list(range(n_reps))\n",
    "\n",
    "plt.plot(steps,res['energies'],marker='o',linestyle='dashed',label='exact_VQE')\n",
    "#plt.plot(steps,res_quasm['energies'],marker='o',linestyle='dashed',label='QASM_VQE')\n",
    "plt.hlines(-3.46410162, xmin= 0.0, xmax=  50,label='Theoretical energy (exact diagonalisation)',linestyle ='dashed',color='black')\n",
    "plt.xlabel('Step')\n",
    "plt.ylabel('Energy')\n",
    "plt.xlim(0,max(steps))\n",
    "plt.legend()\n",
    "plt.grid(True)\n",
    "\n",
    "plt.show()\n",
    "plt.savefig('pVQD.png')"
   ]
  },
  {
   "cell_type": "markdown",
   "metadata": {
    "tags": []
   },
   "source": [
    "\n"
   ]
  },
  {
   "cell_type": "markdown",
   "metadata": {},
   "source": [
    "### References for VQE in Qiksit\n",
    "\n",
    "- For the [method](https://qiskit.org/documentation/stubs/qiskit.aqua.algorithms.VQE.html) \n",
    "- For the [optimizers](https://qiskit.org/documentation/apidoc/qiskit.aqua.components.optimizers.html)"
   ]
  },
  {
   "cell_type": "code",
   "execution_count": null,
   "metadata": {},
   "outputs": [],
   "source": []
  },
  {
   "cell_type": "code",
   "execution_count": null,
   "metadata": {},
   "outputs": [],
   "source": []
  }
 ],
 "metadata": {
  "kernelspec": {
   "display_name": "Python 3",
   "language": "python",
   "name": "python3"
  },
  "language_info": {
   "codemirror_mode": {
    "name": "ipython",
    "version": 3
   },
   "file_extension": ".py",
   "mimetype": "text/x-python",
   "name": "python",
   "nbconvert_exporter": "python",
   "pygments_lexer": "ipython3",
   "version": "3.9.2"
  }
 },
 "nbformat": 4,
 "nbformat_minor": 4
}
