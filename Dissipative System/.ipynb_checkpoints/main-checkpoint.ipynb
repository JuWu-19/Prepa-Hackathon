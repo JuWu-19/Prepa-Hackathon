{
 "cells": [
  {
   "cell_type": "markdown",
   "id": "1286cda2-8fd4-47c7-81eb-a47612448787",
   "metadata": {},
   "source": [
    "# Dissipative Dynamics: a spin in a spin bath "
   ]
  },
  {
   "cell_type": "markdown",
   "id": "9864497d-16f0-4f12-b902-9c3b9748aab0",
   "metadata": {},
   "source": [
    "$$\\newcommand{\\ket}[1]{\\left|{#1}\\right\\rangle}$$ $$\\newcommand{\\bra}[1]{\\left\\langle{#1}\\right|}$$\n",
    "## Initialise the open system\n",
    "\n",
    "The initial state of the single spin open system is $\\ket 1=X\\ket 0$."
   ]
  },
  {
   "cell_type": "code",
   "execution_count": 1,
   "id": "b82bdd5f-6bad-4634-8f85-d09be9736e34",
   "metadata": {},
   "outputs": [
    {
     "data": {
      "text/latex": [
       "$$\n",
       "\\rho = \n",
       "\\begin{bmatrix}\n",
       "0 & 0  \\\\\n",
       " 0 & 1  \\\\\n",
       " \\end{bmatrix}\n",
       "$$"
      ],
      "text/plain": [
       "<IPython.core.display.Latex object>"
      ]
     },
     "execution_count": 1,
     "metadata": {},
     "output_type": "execute_result"
    }
   ],
   "source": [
    "import qiskit\n",
    "from qiskit.circuit import QuantumCircuit,ClassicalRegister, QuantumRegister\n",
    "import numpy as np\n",
    "import qiskit.quantum_info as qi\n",
    "\n",
    "# Quantum Circuit\n",
    "open_system = QuantumCircuit(1)\n",
    "open_system.x(0)\n",
    "open_system.draw()\n",
    "\n",
    "# Density Matrix\n",
    "os_density_matrix = qi.DensityMatrix(np.array([[0,0],[0,1]]))\n",
    "os_density_matrix.draw('latex', prefix='\\\\rho = ')"
   ]
  },
  {
   "cell_type": "markdown",
   "id": "f021d079-6fb6-4cbf-b34b-9d82108358f9",
   "metadata": {},
   "source": [
    "## Initialise the environement"
   ]
  },
  {
   "cell_type": "code",
   "execution_count": 2,
   "id": "e8db120a-1365-4f0b-b062-9f9b9f1cfb4b",
   "metadata": {},
   "outputs": [
    {
     "data": {
      "text/latex": [
       "$$\n",
       "\\rho = \n",
       "\\begin{bmatrix}\n",
       "0.1388 & 0 & 0 & 0 & \\cdots & 0 & 0 & 0  \\\\\n",
       " 0 & 0.04659 & 0 & 0 & \\cdots & 0 & 0 & 0  \\\\\n",
       " 0 & 0 & 0.04939 & 0 & \\cdots & 0 & 0 & 0  \\\\\n",
       " 0 & 0 & 0 & 0.01658 & \\cdots & 0 & 0 & 0  \\\\\n",
       " \\vdots & \\vdots & \\vdots & \\vdots & \\ddots & \\vdots & \\vdots & \\vdots \\\\\n",
       " 0 & 0 & 0 & 0 & \\cdots & 0.00134 & 0 & 0  \\\\\n",
       " 0 & 0 & 0 & 0 & \\cdots & 0 & 0.00142 & 0  \\\\\n",
       " 0 & 0 & 0 & 0 & \\cdots & 0 & 0 & 0.00048  \\\\\n",
       " \\end{bmatrix}\n",
       "$$"
      ],
      "text/plain": [
       "<IPython.core.display.Latex object>"
      ]
     },
     "execution_count": 2,
     "metadata": {},
     "output_type": "execute_result"
    }
   ],
   "source": [
    "from spin_bath_equilibrium import *\n",
    "from coupling_function import *\n",
    "\n",
    "alpha = 0.0002\n",
    "freqc = 100\n",
    "beta = 1\n",
    "card_spin_bath = 6\n",
    "frequencies = []\n",
    "couplings = []\n",
    "deltafreq = (1.15-0.8)/card_spin_bath\n",
    "for i in range(card_spin_bath):\n",
    "    freqi = 0.8+i*deltafreq\n",
    "    frequencies.append(freqi)\n",
    "    couplings.append(coupling_function(freqi,deltafreq))\n",
    "    \n",
    "temperature = 1/beta\n",
    "\n",
    "environment_density_matrix = spin_bath_equilibrium(temperature,frequencies)\n",
    "environment_density_matrix.draw('latex', prefix='\\\\rho = ')"
   ]
  },
  {
   "cell_type": "markdown",
   "id": "c1ddf46f-a413-4be1-812e-d448b16298ae",
   "metadata": {},
   "source": [
    "## Initialise the Hamiltonian"
   ]
  },
  {
   "cell_type": "code",
   "execution_count": 3,
   "id": "bdb5e504-9fc2-4bf3-9c96-57c0421a23d2",
   "metadata": {},
   "outputs": [
    {
     "name": "stdout",
     "output_type": "stream",
     "text": [
      "-0.5 * IIIIIIZ\n",
      "0.0 * IIIIIII\n",
      "+ 0.8 * IIIIIZI\n",
      "+ 0.8583333333333334 * IIIIZII\n",
      "+ 0.9166666666666666 * IIIZIII\n",
      "+ 0.975 * IIZIIII\n",
      "+ 1.0333333333333332 * IZIIIII\n",
      "+ 1.0916666666666666 * ZIIIIII\n"
     ]
    }
   ],
   "source": [
    "from hamiltonians import *\n",
    "\n",
    "totspin = card_spin_bath + 1\n",
    "\n",
    "osh = open_system_hamiltonian(totspin)\n",
    "print(osh)\n",
    "\n",
    "eh = environment_hamiltonian(frequencies)\n",
    "print(eh)\n",
    "\n",
    "ih = interaction_hamiltonian(couplings)"
   ]
  },
  {
   "cell_type": "markdown",
   "id": "620be033-9497-4f1f-8ea6-eec700ac8c70",
   "metadata": {},
   "source": [
    "## System $+$ Environement unitary evolution circuit"
   ]
  },
  {
   "cell_type": "code",
   "execution_count": 4,
   "id": "052bba2f-f681-462b-a08d-d19016ec8f9a",
   "metadata": {},
   "outputs": [],
   "source": [
    "from evolution_operator import *\n",
    "\n",
    "n0 = 6\n",
    "tau = 0.1\n",
    "system_pulse = 1\n",
    "\n",
    "evoperator = evolution_operator(n0,tau,system_pulse,frequencies,couplings)"
   ]
  },
  {
   "cell_type": "markdown",
   "id": "8054fab6-3770-47c0-9448-f05ed32e3296",
   "metadata": {},
   "source": [
    "## Run the simulation"
   ]
  },
  {
   "cell_type": "code",
   "execution_count": null,
   "id": "d86b792a-c77c-42c6-9970-a53b581e6d61",
   "metadata": {},
   "outputs": [
    {
     "name": "stdout",
     "output_type": "stream",
     "text": [
      "DensityMatrix([[0.43161783-3.31211058e-18j, 0.        +0.00000000e+00j],\n",
      "               [0.        +0.00000000e+00j, 0.56838217-2.45576027e-18j]],\n",
      "              dims=(2,))\n",
      "DensityMatrix([[0.54415654+3.65664123e-18j, 0.        +0.00000000e+00j],\n",
      "               [0.        +0.00000000e+00j, 0.45584346-6.95414050e-19j]],\n",
      "              dims=(2,))\n",
      "DensityMatrix([[0.54415654-1.57886941e-18j, 0.        +0.00000000e+00j],\n",
      "               [0.        +0.00000000e+00j, 0.45584346-8.04257783e-18j]],\n",
      "              dims=(2,))\n",
      "DensityMatrix([[0.54415654-1.57886941e-18j, 0.        +0.00000000e+00j],\n",
      "               [0.        +0.00000000e+00j, 0.45584346-8.04257783e-18j]],\n",
      "              dims=(2,))\n"
     ]
    }
   ],
   "source": [
    "from qiskit.quantum_info import partial_trace\n",
    "nsteps = 300\n",
    "envlist = range(1,card_spin_bath+1)\n",
    "pstep = []\n",
    "rhoee = []\n",
    "\n",
    "for step in range(nsteps):\n",
    "    density_matrix = os_density_matrix.expand(environment_density_matrix)\n",
    "    evoperator = evolution_operator(n0,tau,system_pulse,frequencies,couplings)\n",
    "    density_matrix = density_matrix.evolve(evoperator)\n",
    "    os_density_matrix = partial_trace(density_matrix,envlist)        \n",
    "    if step%50==0:\n",
    "        print(os_density_matrix)\n",
    "    pstep.append(tau*step)\n",
    "    p = os_density_matrix.probabilities()\n",
    "    rhoee.append(p[-1])"
   ]
  },
  {
   "cell_type": "code",
   "execution_count": null,
   "id": "5795edb2-1afc-406d-b478-957fda57ec58",
   "metadata": {},
   "outputs": [],
   "source": [
    "import matplotlib.pyplot as plt\n",
    "plt.plot(pstep,rhoee)"
   ]
  },
  {
   "cell_type": "code",
   "execution_count": null,
   "id": "e3911bbe-fb6a-42e5-b35a-a71ea741205b",
   "metadata": {},
   "outputs": [],
   "source": []
  }
 ],
 "metadata": {
  "kernelspec": {
   "display_name": "Python 3",
   "language": "python",
   "name": "python3"
  },
  "language_info": {
   "codemirror_mode": {
    "name": "ipython",
    "version": 3
   },
   "file_extension": ".py",
   "mimetype": "text/x-python",
   "name": "python",
   "nbconvert_exporter": "python",
   "pygments_lexer": "ipython3",
   "version": "3.9.2"
  }
 },
 "nbformat": 4,
 "nbformat_minor": 5
}
