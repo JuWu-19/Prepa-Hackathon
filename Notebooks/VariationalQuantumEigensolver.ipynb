{
 "cells": [
  {
   "cell_type": "markdown",
   "id": "8726884c-58ff-41ca-bff3-0809b2648f22",
   "metadata": {},
   "source": [
    "## I. The transverse field Ising Hamiltonian\n",
    "Implement the following Hamiltonian:\n",
    "$$\n",
    "H=\\sum_{i=0}^{N-1}Z_iZ_{i+1}+\\sum_{i=0}^{N-1}X_i\n",
    "$$"
   ]
  },
  {
   "cell_type": "code",
   "execution_count": 1,
   "id": "65bf65c4-15ba-4b86-ba18-cdc2ab4238c4",
   "metadata": {},
   "outputs": [],
   "source": [
    "import numpy as np\n",
    "from qiskit.quantum_info import Pauli\n",
    "from qiskit.opflow\t\t  import PauliOp, SummedOp\n",
    "\n",
    "def generate_XYZ(J_x,J_y,J_z,field,n_spins=3, pbc=True):\n",
    "    H = 0\n",
    "    return H"
   ]
  },
  {
   "cell_type": "markdown",
   "id": "b557d1e1-3a96-4eb7-874f-f99fd0b9b2a6",
   "metadata": {},
   "source": [
    "## II. The Ansatz\n",
    "Implement the following ansatz:\n",
    "$$\n",
    "C(\\omega)=\\prod_{l=1}^d\\left(\\prod_{i=1}^NR_\\alpha^{(i)}(\\omega_{i,l})\\right)\\left(\\prod_{j=1}^{N-1}e^{-i\\omega_{j,l}Z_jZ_{j+1}}\\right)\n",
    "$$\n",
    "where $\\alpha = x$ if $l$ is odd, $\\alpha = y$ if $l$ is even."
   ]
  },
  {
   "cell_type": "code",
   "execution_count": 2,
   "id": "8c1c841d-6a0c-4137-af36-e799c7a8dd37",
   "metadata": {},
   "outputs": [],
   "source": [
    "from qiskit import QuantumCircuit, ClassicalRegister, QuantumRegister\n",
    "import itertools\n",
    "import numpy as np\n",
    "\n",
    "def ansatz(parameter,n_spins,n_layer):\n",
    "    circuit = QuantumCircuit(n_spins)\n",
    "    return circuit"
   ]
  },
  {
   "cell_type": "code",
   "execution_count": 3,
   "id": "2608e40f-f0ad-4666-8de4-e0acd4dd464a",
   "metadata": {},
   "outputs": [],
   "source": [
    "from qiskit import Aer\n",
    "from qiskit.utils import QuantumInstance\n",
    "from qiskit.compiler import transpile, assemble\n",
    "\n",
    "exact_backend = Aer.get_backend('statevector_simulator')\n",
    "exact_instance = QuantumInstance(exact_backend, seed_simulator=2, seed_transpiler=2)\n",
    "\n",
    "n_qubits = 3\n",
    "shots    = 1000\n",
    "n_reps   = 1\n",
    "lr       = 0.1\n",
    "n_layer  = 3\n",
    "length = n_layer*3*n_qubits\n",
    "params   = np.random.rand(length)"
   ]
  },
  {
   "cell_type": "markdown",
   "id": "898291c2-a01a-44eb-af05-54a38c8d94ec",
   "metadata": {},
   "source": [
    "## III. The energy\n",
    "Implement measurement of the Hamiltonian, using only computation basis measurements."
   ]
  },
  {
   "cell_type": "code",
   "execution_count": 4,
   "id": "4b9b6d52-5209-4a1d-9415-1d31a4a27b27",
   "metadata": {},
   "outputs": [],
   "source": [
    "def energy(n_qubits, n_layer, op, ansatz, params, shots, instance):\n",
    "    energy = 0\n",
    "    return energy"
   ]
  },
  {
   "cell_type": "markdown",
   "id": "3af66314-d151-4e63-8a87-257bb83bba7a",
   "metadata": {},
   "source": [
    "## IV. Gradient\n",
    "Implement the gradient computation in a hardware efficient manner, using the parameter-shift rule"
   ]
  },
  {
   "cell_type": "code",
   "execution_count": 5,
   "id": "dc7becec-523f-4e79-be0f-55e1a1bbea99",
   "metadata": {},
   "outputs": [],
   "source": [
    "def gradient(n_qubits, n_layer, op, ansatz, params, shots, instance):\n",
    "    gradient = np.zeros((len(params), 2))\n",
    "    return gradient"
   ]
  },
  {
   "cell_type": "code",
   "execution_count": 7,
   "id": "2caa6088-f3d0-4298-97a1-8826e236310f",
   "metadata": {},
   "outputs": [],
   "source": [
    "def VQE(n_qubits, n_layer, op, ansatz, params, shots, instance, lr, n_reps):\n",
    "    log = {}\n",
    "    log['energies'] = []\n",
    "    log['err_energies'] = []\n",
    "    log['gradients'] = []\n",
    "\n",
    "    curr_params = params\n",
    "    for i in range(n_reps):\n",
    "        # Measure energy and save it\n",
    "\n",
    "        E = energy(n_qubits, n_layer, op, ansatz, curr_params, shots, instance)\n",
    "        if i % 10 == 0:\n",
    "            print('Run number: ', i + 1)\n",
    "            print('Energy:', E[0])\n",
    "            print('========================= \\n')\n",
    "        log['energies'].append(E[0])\n",
    "        log['err_energies'].append(E[1])\n",
    "\n",
    "        # Measure gradients\n",
    "        g = gradient(n_qubits, n_layer, op, ansatz, curr_params, shots, instance)\n",
    "\n",
    "        log['gradients'].append(g[:, 0])\n",
    "        #         print(g)\n",
    "\n",
    "        # Update parameters\n",
    "\n",
    "        curr_params = curr_params - lr * g[:, 0]\n",
    "    log[\"curr_params\"] = curr_params\n",
    "    return log"
   ]
  },
  {
   "cell_type": "code",
   "execution_count": 9,
   "id": "46b634b5-ff97-4f7f-bd4d-b2f1eb45c102",
   "metadata": {},
   "outputs": [
    {
     "name": "stdout",
     "output_type": "stream",
     "text": [
      "Run number:  1\n"
     ]
    },
    {
     "ename": "TypeError",
     "evalue": "'int' object is not subscriptable",
     "output_type": "error",
     "traceback": [
      "\u001b[0;31m---------------------------------------------------------------------------\u001b[0m",
      "\u001b[0;31mTypeError\u001b[0m                                 Traceback (most recent call last)",
      "\u001b[0;32m<ipython-input-9-14bcd514abb7>\u001b[0m in \u001b[0;36m<module>\u001b[0;34m\u001b[0m\n\u001b[1;32m      1\u001b[0m \u001b[0mH\u001b[0m \u001b[0;34m=\u001b[0m \u001b[0mgenerate_XYZ\u001b[0m\u001b[0;34m(\u001b[0m\u001b[0mJ_x\u001b[0m\u001b[0;34m=\u001b[0m\u001b[0;36m0\u001b[0m\u001b[0;34m,\u001b[0m \u001b[0mJ_y\u001b[0m\u001b[0;34m=\u001b[0m\u001b[0;36m0\u001b[0m\u001b[0;34m,\u001b[0m\u001b[0mJ_z\u001b[0m\u001b[0;34m=\u001b[0m\u001b[0;36m1\u001b[0m\u001b[0;34m,\u001b[0m\u001b[0mfield\u001b[0m\u001b[0;34m=\u001b[0m\u001b[0;36m1\u001b[0m\u001b[0;34m,\u001b[0m\u001b[0mn_spins\u001b[0m\u001b[0;34m=\u001b[0m\u001b[0;36m3\u001b[0m\u001b[0;34m,\u001b[0m\u001b[0mpbc\u001b[0m\u001b[0;34m=\u001b[0m\u001b[0;32mTrue\u001b[0m\u001b[0;34m)\u001b[0m\u001b[0;34m\u001b[0m\u001b[0;34m\u001b[0m\u001b[0m\n\u001b[0;32m----> 2\u001b[0;31m \u001b[0mres\u001b[0m \u001b[0;34m=\u001b[0m \u001b[0mVQE\u001b[0m\u001b[0;34m(\u001b[0m\u001b[0mn_qubits\u001b[0m\u001b[0;34m,\u001b[0m\u001b[0mn_layer\u001b[0m\u001b[0;34m,\u001b[0m\u001b[0mH\u001b[0m\u001b[0;34m,\u001b[0m\u001b[0mansatz\u001b[0m\u001b[0;34m,\u001b[0m\u001b[0mparams\u001b[0m\u001b[0;34m,\u001b[0m\u001b[0mshots\u001b[0m\u001b[0;34m,\u001b[0m\u001b[0mexact_instance\u001b[0m\u001b[0;34m,\u001b[0m\u001b[0mlr\u001b[0m\u001b[0;34m,\u001b[0m\u001b[0mn_reps\u001b[0m\u001b[0;34m)\u001b[0m\u001b[0;34m\u001b[0m\u001b[0;34m\u001b[0m\u001b[0m\n\u001b[0m",
      "\u001b[0;32m<ipython-input-7-48a92b12ae88>\u001b[0m in \u001b[0;36mVQE\u001b[0;34m(n_qubits, n_layer, op, ansatz, params, shots, instance, lr, n_reps)\u001b[0m\n\u001b[1;32m     12\u001b[0m         \u001b[0;32mif\u001b[0m \u001b[0mi\u001b[0m \u001b[0;34m%\u001b[0m \u001b[0;36m10\u001b[0m \u001b[0;34m==\u001b[0m \u001b[0;36m0\u001b[0m\u001b[0;34m:\u001b[0m\u001b[0;34m\u001b[0m\u001b[0;34m\u001b[0m\u001b[0m\n\u001b[1;32m     13\u001b[0m             \u001b[0mprint\u001b[0m\u001b[0;34m(\u001b[0m\u001b[0;34m'Run number: '\u001b[0m\u001b[0;34m,\u001b[0m \u001b[0mi\u001b[0m \u001b[0;34m+\u001b[0m \u001b[0;36m1\u001b[0m\u001b[0;34m)\u001b[0m\u001b[0;34m\u001b[0m\u001b[0;34m\u001b[0m\u001b[0m\n\u001b[0;32m---> 14\u001b[0;31m             \u001b[0mprint\u001b[0m\u001b[0;34m(\u001b[0m\u001b[0;34m'Energy:'\u001b[0m\u001b[0;34m,\u001b[0m \u001b[0mE\u001b[0m\u001b[0;34m[\u001b[0m\u001b[0;36m0\u001b[0m\u001b[0;34m]\u001b[0m\u001b[0;34m)\u001b[0m\u001b[0;34m\u001b[0m\u001b[0;34m\u001b[0m\u001b[0m\n\u001b[0m\u001b[1;32m     15\u001b[0m             \u001b[0mprint\u001b[0m\u001b[0;34m(\u001b[0m\u001b[0;34m'========================= \\n'\u001b[0m\u001b[0;34m)\u001b[0m\u001b[0;34m\u001b[0m\u001b[0;34m\u001b[0m\u001b[0m\n\u001b[1;32m     16\u001b[0m         \u001b[0mlog\u001b[0m\u001b[0;34m[\u001b[0m\u001b[0;34m'energies'\u001b[0m\u001b[0;34m]\u001b[0m\u001b[0;34m.\u001b[0m\u001b[0mappend\u001b[0m\u001b[0;34m(\u001b[0m\u001b[0mE\u001b[0m\u001b[0;34m[\u001b[0m\u001b[0;36m0\u001b[0m\u001b[0;34m]\u001b[0m\u001b[0;34m)\u001b[0m\u001b[0;34m\u001b[0m\u001b[0;34m\u001b[0m\u001b[0m\n",
      "\u001b[0;31mTypeError\u001b[0m: 'int' object is not subscriptable"
     ]
    }
   ],
   "source": [
    "H = generate_XYZ(J_x=0, J_y=0,J_z=1,field=1,n_spins=3,pbc=True)\n",
    "res = VQE(n_qubits,n_layer,H,ansatz,params,shots,exact_instance,lr,n_reps)"
   ]
  },
  {
   "cell_type": "markdown",
   "id": "d404253b-0659-40be-b2de-e93044fd2d0d",
   "metadata": {},
   "source": [
    "## V. Overlap\n",
    "As it is useful for the orthogonality constrained VQE, implement the overlap calculation. It may be useful to start by implementing the $|0\\rangle\\langle0|$ operator first."
   ]
  },
  {
   "cell_type": "code",
   "execution_count": 10,
   "id": "7aee7041-94af-4d78-a193-5c0f3b50286d",
   "metadata": {},
   "outputs": [],
   "source": [
    "def projector_zero(n_qubits):\n",
    "    return 0\n",
    "\n",
    "def overlap(ansatz,param0,paramf,instance,n_qubits, n_layer):\n",
    "    return 0"
   ]
  },
  {
   "cell_type": "markdown",
   "id": "2e95d31c-e10c-4ad9-b999-310f856fbe77",
   "metadata": {},
   "source": [
    "## VI. Orthogonality constrained VQE\n",
    "Taking inspiration from the VQE function, implement the next_level function. It "
   ]
  },
  {
   "cell_type": "code",
   "execution_count": null,
   "id": "12f12b31-3cb4-4abb-a6b9-73cb6c561c7e",
   "metadata": {},
   "outputs": [],
   "source": [
    "def next_level(n_qubits,n_layer,op,ansatz,parameters,shots,instance, lr, n_reps):\n",
    "    return parameters"
   ]
  },
  {
   "cell_type": "code",
   "execution_count": null,
   "id": "d65981d3-dddd-4e2e-9f4d-fd37c68add5e",
   "metadata": {},
   "outputs": [],
   "source": [
    "parameters = [res[\"curr_params\"]]\n",
    "number_of_levels = 4\n",
    "for lev in range(number_of_levels):\n",
    "    parameters = next_level(n_qubits,n_layer,H,ansatz,parameters,shots,exact_instance,lr,n_reps)"
   ]
  }
 ],
 "metadata": {
  "kernelspec": {
   "display_name": "Python 3",
   "language": "python",
   "name": "python3"
  },
  "language_info": {
   "codemirror_mode": {
    "name": "ipython",
    "version": 3
   },
   "file_extension": ".py",
   "mimetype": "text/x-python",
   "name": "python",
   "nbconvert_exporter": "python",
   "pygments_lexer": "ipython3",
   "version": "3.9.2"
  }
 },
 "nbformat": 4,
 "nbformat_minor": 5
}
