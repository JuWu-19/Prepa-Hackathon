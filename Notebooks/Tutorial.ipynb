{
 "cells": [
  {
   "cell_type": "markdown",
   "id": "0e6a7d3e-d785-4d29-9ef1-a5b8ef695fe6",
   "metadata": {},
   "source": [
    "# Quantum Circuits and Qubits\n",
    "## Quantum Circuits"
   ]
  },
  {
   "cell_type": "code",
   "execution_count": 12,
   "id": "e40e8e73-088e-464c-b02d-848c7e68916b",
   "metadata": {},
   "outputs": [
    {
     "data": {
      "text/html": [
       "<pre style=\"word-wrap: normal;white-space: pre;background: #fff0;line-height: 1.1;font-family: &quot;Courier New&quot;,Courier,monospace\">        ┌─────────────────┐┌─────────┐ ░ ┌─┐\n",
       "   q_0: ┤ initialize(0,1) ├┤ RX(π/4) ├─░─┤M├\n",
       "        └─────────────────┘└─────────┘ ░ └╥┘\n",
       "meas: 1/══════════════════════════════════╩═\n",
       "                                          0 </pre>"
      ],
      "text/plain": [
       "        ┌─────────────────┐┌─────────┐ ░ ┌─┐\n",
       "   q_0: ┤ initialize(0,1) ├┤ RX(π/4) ├─░─┤M├\n",
       "        └─────────────────┘└─────────┘ ░ └╥┘\n",
       "meas: 1/══════════════════════════════════╩═\n",
       "                                          0 "
      ]
     },
     "execution_count": 12,
     "metadata": {},
     "output_type": "execute_result"
    }
   ],
   "source": [
    "from qiskit import QuantumCircuit, assemble, Aer\n",
    "from qiskit.visualization import plot_histogram, plot_bloch_vector\n",
    "import numpy as np\n",
    "\n",
    "qc = QuantumCircuit(1) # Create a quantum circuit with one qubit\n",
    "initial_state = [0,1]  # |1>\n",
    "qc.initialize(initial_state,0)\n",
    "qc.rx(np.pi/4,0)       # Rotation of pi/4 over the x axis                                   \n",
    "qc.measure_all()\n",
    "qc.draw()"
   ]
  },
  {
   "cell_type": "markdown",
   "id": "aee6eaa0-16ea-490a-8c6e-3309121ad4c4",
   "metadata": {},
   "source": [
    "## Quantum Simulator"
   ]
  },
  {
   "cell_type": "code",
   "execution_count": 13,
   "id": "ab770567-9e93-4dae-82a3-195acf73bd17",
   "metadata": {},
   "outputs": [
    {
     "data": {
      "image/png": "[encoded data removed]",
      "text/plain": [
       "<Figure size 504x360 with 1 Axes>"
      ]
     },
     "execution_count": 13,
     "metadata": {},
     "output_type": "execute_result"
    }
   ],
   "source": [
    "sim = Aer.get_backend('aer_simulator') # Tell Qiskit how to simulate our circuit\n",
    "qobj = assemble(qc)                    # Create Qobj for the simulator to run\n",
    "result = sim.run(qobj).result()\n",
    "counts = result.get_counts()\n",
    "plot_histogram(counts)"
   ]
  },
  {
   "cell_type": "markdown",
   "id": "eca65892-f02a-4959-9671-b8579bb37b86",
   "metadata": {},
   "source": [
    "## Measurement\n",
    "\n",
    "A simple example: the $X$-measurement. It is based on the following identity:\n",
    "$$ X=HZH$$"
   ]
  },
  {
   "cell_type": "code",
   "execution_count": 1,
   "id": "ae209d7c-5b62-4b98-b063-2b421fc3b20c",
   "metadata": {},
   "outputs": [],
   "source": [
    "def x_measurement(qc,qubit,cbit):\n",
    "    \"\"\"Measure 'qubit' in the X-basis, and store the result in 'cbit'\"\"\"\n",
    "    qc.h(qubit)\n",
    "    qc.measure(qubit,cbit)\n",
    "    qc.h(qubit)\n",
    "    return qc"
   ]
  },
  {
   "cell_type": "code",
   "execution_count": null,
   "id": "46e43fe6-6d6c-4027-a7c0-c45a7883aab0",
   "metadata": {},
   "outputs": [],
   "source": []
  }
 ],
 "metadata": {
  "kernelspec": {
   "display_name": "Python 3",
   "language": "python",
   "name": "python3"
  },
  "language_info": {
   "codemirror_mode": {
    "name": "ipython",
    "version": 3
   },
   "file_extension": ".py",
   "mimetype": "text/x-python",
   "name": "python",
   "nbconvert_exporter": "python",
   "pygments_lexer": "ipython3",
   "version": "3.9.2"
  }
 },
 "nbformat": 4,
 "nbformat_minor": 5
}
