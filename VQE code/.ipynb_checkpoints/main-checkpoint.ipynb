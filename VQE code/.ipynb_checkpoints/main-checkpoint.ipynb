{
 "cells": [
  {
   "cell_type": "code",
   "execution_count": 1,
   "id": "22c8b170-cb9f-4e07-ba7e-9ff3e4c5c188",
   "metadata": {},
   "outputs": [],
   "source": [
    "from hamiltonian import *\n",
    "from ansatz import *\n",
    "\n",
    "depth = 3\n",
    "spins = 3\n",
    "ex_params = np.zeros((depth+1)*spins +depth*(spins-1))\n",
    "test_ansatz = ansatz"
   ]
  },
  {
   "cell_type": "code",
   "execution_count": 2,
   "id": "96389927-fbc1-4b59-92e6-107460ae3402",
   "metadata": {},
   "outputs": [],
   "source": [
    "from qiskit import Aer\n",
    "from qiskit.utils import QuantumInstance\n",
    "from qiskit import IBMQ\n",
    "from qiskit.compiler import transpile, assemble\n",
    "from qiskit.providers.ibmq import least_busy\n",
    "\n",
    "exact_backend = Aer.get_backend('statevector_simulator')\n",
    "exact_instance = QuantumInstance(exact_backend, seed_simulator=2, seed_transpiler=2)"
   ]
  },
  {
   "cell_type": "code",
   "execution_count": 3,
   "id": "3672fb19-7cbb-42a5-a3ee-a5007e67378a",
   "metadata": {},
   "outputs": [],
   "source": [
    "n_qubits = 3\n",
    "shots    = 1000\n",
    "n_reps   = 1\n",
    "lr       = 0.1\n",
    "n_layer  = 3\n",
    "length = n_layer*3*n_qubits\n",
    "params   = np.random.rand(length)"
   ]
  },
  {
   "cell_type": "markdown",
   "id": "724759c5-c13e-4cf7-b3b8-0dfdffe12d39",
   "metadata": {},
   "source": [
    "# VQE calculation of the ground state"
   ]
  },
  {
   "cell_type": "code",
   "execution_count": null,
   "id": "7c5b4da6-1528-4a35-9964-4de0f2f81031",
   "metadata": {},
   "outputs": [
    {
     "name": "stdout",
     "output_type": "stream",
     "text": [
      "Run number:  1\n",
      "Energy: 2.2457779932983035\n",
      "========================= \n",
      "\n",
      "Run number:  11\n",
      "Energy: -1.2596181888654185\n",
      "========================= \n",
      "\n",
      "Run number:  21\n",
      "Energy: -2.880379970072391\n",
      "========================= \n",
      "\n"
     ]
    }
   ],
   "source": [
    "from vqe import *\n",
    "from energy import *\n",
    "\n",
    "H = generate_XYZ(J_x=0, J_y=0,J_z=1,field=1,n_spins=3,pbc=True)\n",
    "res = VQE(n_qubits,n_layer,H,test_ansatz,params,shots,exact_instance,lr,n_reps)"
   ]
  },
  {
   "cell_type": "code",
   "execution_count": null,
   "id": "88d9214b-9c31-485b-bf92-0342dca658ae",
   "metadata": {},
   "outputs": [],
   "source": [
    "print(\"Ground state calculation: \",res['energies'][-1])"
   ]
  },
  {
   "cell_type": "markdown",
   "id": "939aa35d-f5ed-4307-a54a-d96507564ffa",
   "metadata": {},
   "source": [
    "# Constrained VQE calculation of the first excited levels"
   ]
  },
  {
   "cell_type": "code",
   "execution_count": null,
   "id": "3e7cbe93-6e0d-4f06-b3d0-4480df177478",
   "metadata": {},
   "outputs": [],
   "source": [
    "parameters = [res[\"curr_params\"]]\n",
    "from next_level import *\n",
    "number_of_levels = 7\n",
    "\n",
    "for lev in range(number_of_levels):\n",
    "    parameters = next_level(n_qubits,n_layer,H,ansatz,parameters,shots,exact_instance,lr,n_reps)"
   ]
  }
 ],
 "metadata": {
  "kernelspec": {
   "display_name": "Python 3",
   "language": "python",
   "name": "python3"
  },
  "language_info": {
   "codemirror_mode": {
    "name": "ipython",
    "version": 3
   },
   "file_extension": ".py",
   "mimetype": "text/x-python",
   "name": "python",
   "nbconvert_exporter": "python",
   "pygments_lexer": "ipython3",
   "version": "3.9.2"
  }
 },
 "nbformat": 4,
 "nbformat_minor": 5
}
