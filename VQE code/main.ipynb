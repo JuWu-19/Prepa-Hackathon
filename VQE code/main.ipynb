{
 "cells": [
  {
   "cell_type": "code",
   "execution_count": 1,
   "id": "22c8b170-cb9f-4e07-ba7e-9ff3e4c5c188",
   "metadata": {},
   "outputs": [],
   "source": [
    "from hamiltonian import *\n",
    "from ansatz import *\n",
    "\n",
    "depth = 3\n",
    "spins = 3\n",
    "ex_params = np.zeros((depth+1)*spins +depth*(spins-1))\n",
    "test_ansatz = ansatz"
   ]
  },
  {
   "cell_type": "code",
   "execution_count": 2,
   "id": "96389927-fbc1-4b59-92e6-107460ae3402",
   "metadata": {},
   "outputs": [],
   "source": [
    "from qiskit import Aer\n",
    "from qiskit.utils import QuantumInstance\n",
    "from qiskit import IBMQ\n",
    "from qiskit.compiler import transpile, assemble\n",
    "from qiskit.providers.ibmq import least_busy\n",
    "\n",
    "exact_backend = Aer.get_backend('statevector_simulator')\n",
    "exact_instance = QuantumInstance(exact_backend, seed_simulator=2, seed_transpiler=2)"
   ]
  },
  {
   "cell_type": "code",
   "execution_count": 3,
   "id": "3672fb19-7cbb-42a5-a3ee-a5007e67378a",
   "metadata": {},
   "outputs": [],
   "source": [
    "n_qubits = 3\n",
    "shots    = 1000\n",
    "n_reps   = 80\n",
    "lr       = 0.1\n",
    "n_layer  = 5\n",
    "length = n_layer*3*n_qubits\n",
    "params   = np.random.rand(length)"
   ]
  },
  {
   "cell_type": "markdown",
   "id": "724759c5-c13e-4cf7-b3b8-0dfdffe12d39",
   "metadata": {},
   "source": [
    "# VQE calculation of the ground state"
   ]
  },
  {
   "cell_type": "code",
   "execution_count": 4,
   "id": "7c5b4da6-1528-4a35-9964-4de0f2f81031",
   "metadata": {},
   "outputs": [
    {
     "name": "stdout",
     "output_type": "stream",
     "text": [
      "Run number:  1\n",
      "Energy: 0.1780001457320909\n",
      "========================= \n",
      "\n",
      "Run number:  11\n",
      "Energy: -3.047805485195591\n",
      "========================= \n",
      "\n",
      "Run number:  21\n",
      "Energy: -3.270685472108249\n",
      "========================= \n",
      "\n",
      "Run number:  31\n",
      "Energy: -3.343558058668032\n",
      "========================= \n",
      "\n",
      "Run number:  41\n",
      "Energy: -3.3678582790771703\n",
      "========================= \n",
      "\n",
      "Run number:  51\n",
      "Energy: -3.3814451773131733\n",
      "========================= \n",
      "\n",
      "Run number:  61\n",
      "Energy: -3.3919844665103676\n",
      "========================= \n",
      "\n",
      "Run number:  71\n",
      "Energy: -3.4007763375201896\n",
      "========================= \n",
      "\n"
     ]
    }
   ],
   "source": [
    "from vqe import *\n",
    "from energy import *\n",
    "\n",
    "H = generate_XYZ(J_x=0, J_y=0,J_z=1,field=1,n_spins=3,pbc=True)\n",
    "res = VQE(n_qubits,n_layer,H,test_ansatz,params,shots,exact_instance,lr,n_reps)"
   ]
  },
  {
   "cell_type": "code",
   "execution_count": 5,
   "id": "88d9214b-9c31-485b-bf92-0342dca658ae",
   "metadata": {},
   "outputs": [
    {
     "name": "stdout",
     "output_type": "stream",
     "text": [
      "Ground state calculation:  -3.407515713726931\n"
     ]
    }
   ],
   "source": [
    "print(\"Ground state calculation: \",res['energies'][-1])"
   ]
  },
  {
   "cell_type": "markdown",
   "id": "939aa35d-f5ed-4307-a54a-d96507564ffa",
   "metadata": {},
   "source": [
    "# Constrained VQE calculation of the first excited levels"
   ]
  },
  {
   "cell_type": "code",
   "execution_count": null,
   "id": "3e7cbe93-6e0d-4f06-b3d0-4480df177478",
   "metadata": {},
   "outputs": [
    {
     "name": "stderr",
     "output_type": "stream",
     "text": [
      "/Library/Frameworks/Python.framework/Versions/3.9/lib/python3.9/site-packages/qiskit/circuit/quantumcircuit.py:869: DeprecationWarning: The QuantumCircuit.combine() method is being deprecated. Use the compose() method which is more flexible w.r.t circuit register compatibility.\n",
      "  return self.combine(rhs)\n"
     ]
    },
    {
     "name": "stdout",
     "output_type": "stream",
     "text": [
      "Run number:  1\n",
      "Energy: 11.591794729913333\n",
      "Run number:  11\n",
      "Energy: -0.9151926479949035\n",
      "Run number:  21\n",
      "Energy: -1.8135483511804753\n",
      "Run number:  31\n",
      "Energy: -1.9281957420055584\n",
      "Run number:  41\n",
      "Energy: -1.9616490877709782\n",
      "Run number:  51\n",
      "Energy: -1.9807028493933938\n",
      "Run number:  61\n",
      "Energy: -1.9908747927535717\n",
      "Run number:  71\n",
      "Energy: -1.9959936027283525\n",
      "=========================\n",
      "Level n =  1\n",
      "Final Energy: -1.9983507765725377\n",
      "========================= \n",
      "\n",
      "Run number:  1\n",
      "Energy: 28.001590853341096\n",
      "Run number:  11\n",
      "Energy: 1.1705416038361691\n",
      "Run number:  21\n",
      "Energy: 0.06924773907109188\n",
      "Run number:  31\n",
      "Energy: -0.4174782925379798\n",
      "Run number:  41\n",
      "Energy: -1.3782266687914009\n",
      "Run number:  51\n",
      "Energy: -0.2689689822767607\n",
      "Run number:  61\n",
      "Energy: 0.19549815852250818\n",
      "Run number:  71\n",
      "Energy: -1.3542933532779398\n",
      "=========================\n",
      "Level n =  2\n",
      "Final Energy: 0.10140157625741616\n",
      "========================= \n",
      "\n",
      "Run number:  1\n",
      "Energy: 44.4890952649298\n",
      "Run number:  11\n",
      "Energy: 8.989680303515215\n",
      "Run number:  21\n",
      "Energy: 9.272935738970023\n",
      "Run number:  31\n",
      "Energy: 22.662520912651352\n",
      "Run number:  41\n",
      "Energy: 28.372911004291847\n",
      "Run number:  51\n",
      "Energy: 9.180297160405702\n",
      "Run number:  61\n",
      "Energy: 26.647857743179998\n",
      "Run number:  71\n",
      "Energy: 2.3869331995630647\n",
      "=========================\n",
      "Level n =  3\n",
      "Final Energy: 13.788655516601073\n",
      "========================= \n",
      "\n",
      "Run number:  1\n",
      "Energy: 76.91329027764517\n",
      "Run number:  11\n",
      "Energy: 15.348506006293968\n",
      "Run number:  21\n",
      "Energy: 46.769559187267234\n",
      "Run number:  31\n",
      "Energy: 32.568341380452026\n",
      "Run number:  41\n",
      "Energy: 54.22821835797685\n",
      "Run number:  51\n",
      "Energy: 36.84810067329779\n"
     ]
    }
   ],
   "source": [
    "parameters = [res[\"curr_params\"]]\n",
    "from next_level import *\n",
    "number_of_levels = 7\n",
    "\n",
    "for lev in range(number_of_levels):\n",
    "    parameters = next_level(n_qubits,n_layer,H,ansatz,parameters,shots,exact_instance,lr,n_reps)"
   ]
  },
  {
   "cell_type": "code",
   "execution_count": null,
   "id": "4c8dc79f-ddd8-4929-bbf8-b71fc7975a93",
   "metadata": {},
   "outputs": [],
   "source": []
  }
 ],
 "metadata": {
  "kernelspec": {
   "display_name": "Python 3",
   "language": "python",
   "name": "python3"
  },
  "language_info": {
   "codemirror_mode": {
    "name": "ipython",
    "version": 3
   },
   "file_extension": ".py",
   "mimetype": "text/x-python",
   "name": "python",
   "nbconvert_exporter": "python",
   "pygments_lexer": "ipython3",
   "version": "3.9.2"
  }
 },
 "nbformat": 4,
 "nbformat_minor": 5
}
