{
 "cells": [
  {
   "cell_type": "markdown",
   "metadata": {},
   "source": [
    "# The Variational Quantum Eigensolver algorithm"
   ]
  },
  {
   "cell_type": "markdown",
   "metadata": {},
   "source": [
    "In this notebook we are going to see an example of the Variational Quantum Eigensolver algorithm, a hybrid algorithm presented for the first time by [Peruzzo et al. in 2014](https://www.nature.com/articles/ncomms5213). \n",
    "\n",
    "This algorithm can be used, as we are going to see, to [find out the ground state energy of physical and chemical systems](https://www.nature.com/articles/nature23879)."
   ]
  },
  {
   "cell_type": "code",
   "execution_count": 1,
   "metadata": {},
   "outputs": [],
   "source": [
    "# Import useful quantities \n",
    "\n",
    "import numpy as np\n",
    "import matplotlib.pyplot as plt\n",
    "import qiskit\n",
    "from qiskit.circuit import QuantumCircuit\n",
    "\n",
    "# Some new useful methods\n",
    "\n",
    "from qiskit.aqua.operators              import Z, I, X\n",
    "from qiskit.aqua.operators.state_fns    import CircuitStateFn\n",
    "from qiskit.aqua.operators.expectations import PauliExpectation\n",
    "from qiskit.aqua.operators              import CircuitSampler,  StateFn"
   ]
  },
  {
   "cell_type": "markdown",
   "metadata": {},
   "source": [
    "We are going to study the $H_2$ molecule, using the VQE to find its ground state energy when the two atoms are at the standard distance of $0.5$ Angstrom.\n",
    "\n",
    "### How does the algorithm works?\n",
    "\n",
    "Consider a system with Hamiltonian $H$, we know that its ground state energy is \n",
    "\n",
    "\\begin{equation}\n",
    "E_{0} = \\langle \\psi_{0} | H | \\psi_{0} \\rangle \\leq \\langle \\psi | H | \\psi \\rangle \\quad \\quad \\forall |\\psi \\rangle\n",
    "\\end{equation}\n",
    "\n",
    "considering both $|\\psi_0 \\rangle$ and $|\\psi \\rangle$ normalized. This means that every state we are going to prepare on our quantum computer will have an expectation value of the Hamiltonian operator (energy) greater or equal than the ground state energy. This is known as the variational principle and let us find the ground state energy as a optimization problem, in which the function to minimize is \n",
    "\n",
    "\\begin{equation}\n",
    "L(\\psi) = \\langle \\psi | H | \\psi \\rangle\n",
    "\\end{equation}\n",
    "\n",
    "But how can we effectively minimize this function with the aid of a quantum computer?\n",
    "\n",
    "- As a first thing, we consider an ansatz of the wavefunction describing the state of the system, which will depend upon some parametrized quantum gates in the case of a quantum computer, obtaining the parametrized state $U(w)|\\psi \\rangle =|\\psi(w) \\rangle $\n",
    "- then we are going to measure the energy of this state and its gradient with respect to the parameters using the quantum computer\n",
    "- we will feed these information to a classical computer, which will perform the optimization of the parameters by using classical optimization strategies such as gradient descent\n",
    "- the newly optimized parameters are then used to prepare a new quantum state on which we are going to measure again energy and gradient. This procedure is repeated until convergence of the algorithm."
   ]
  },
  {
   "cell_type": "markdown",
   "metadata": {},
   "source": [
    "### The $H_2$ molecule\n",
    "\n",
    "We know that the ground state the two $H$ atoms composing the $H_2$ molecule are $0.742$ Angstrom away from each other and the energy is approximatively $-1.145 \\text{Ha}$  ( $1 \\, \\text{Hartree} \\sim 27.2 \\, eV \\sim 4.35 * 10^{-18} J $). We need the Hamiltonian of this system in order to start the VQE. Normally we should start from the many-body Hamiltonian for molecules and then map it to a Pauli Hamiltonian using some mapping, but in this case we give directly the Hamiltonian for simplicity"
   ]
  },
  {
   "cell_type": "code",
   "execution_count": 2,
   "metadata": {},
   "outputs": [],
   "source": [
    "H = (0.011280*Z^Z) +(0.397936*Z^I) +(0.397936*I^Z) +(0.180931*X^X)"
   ]
  },
  {
   "cell_type": "markdown",
   "metadata": {},
   "source": [
    "### The Ansatz\n",
    "Now that we have the Hamiltonian operator, we will need an ansatz for our wavefunction. In quantum computing, an ansatz is a circuit that at the end will produce a qubit state $|\\psi \\rangle$. In this case, we need a variational ansatz, so some gates will contains parameters that are going to be iteratively optimized (as an example, rotation on the $x,y,z$ axis).\n",
    "\n",
    "There is no analytical way to choose an ansatz for the system: there are empirical rules based on similarity with what we are studying.\n",
    "Some ans&auml;tze come from classical computational chemistry, such as the highly accurate [q-UCCSD](https://arxiv.org/pdf/1506.00443.pdf),  but mostly we have to consider some circuits that can be run on current devices, so they have to contain few two qubits gates and be relatively shallow: these ans&auml;tze are called hardware-efficient.\n",
    "\n",
    "\n",
    "What we are going to consider is one of the so-called hardware-efficient ans&auml;tze. \n",
    "The system does not contain many qubits, so our trial ansatz will be very simple : a layer of rotations around the $y$-axis followed by CNOTs and again a layer of rotations. This simple structure can be easily extended both in depth (adding more CNOTs and rotation) and in width, to study bigger system, therefore is widely used."
   ]
  },
  {
   "cell_type": "code",
   "execution_count": 4,
   "metadata": {},
   "outputs": [
    {
     "data": {
      "image/png": "[encoded data removed]",
      "text/plain": [
       "<Figure size 568.197x325.08 with 1 Axes>"
      ]
     },
     "execution_count": 4,
     "metadata": {},
     "output_type": "execute_result"
    }
   ],
   "source": [
    "def RY_ansatz(n_qubits,params):\n",
    "    qc = QuantumCircuit(n_qubits)\n",
    "    p_count= 0\n",
    "    for i in range(n_qubits):\n",
    "        qc.ry(params[p_count],i)\n",
    "        p_count = p_count +1\n",
    "    qc.barrier()\n",
    "    for i in range(n_qubits-1):\n",
    "        qc.cx(i,i+1)\n",
    "    qc.barrier()\n",
    "    for i in range(n_qubits):\n",
    "        qc.ry(params[p_count],i)\n",
    "        p_count = p_count +1\n",
    "    return qc\n",
    "\n",
    "#Draw an example\n",
    "example = RY_ansatz(5,np.random.rand(10))\n",
    "example.draw('mpl', style={'name': 'iqx'})"
   ]
  },
  {
   "cell_type": "markdown",
   "metadata": {},
   "source": [
    "### Measuring the Energy\n",
    "\n",
    "We want a circuit to measure the expecation value of the Hamiltonian on our trial state"
   ]
  },
  {
   "cell_type": "code",
   "execution_count": 4,
   "metadata": {},
   "outputs": [],
   "source": [
    "def energy(n_qubits,op,ansatz,params,shots,instance):\n",
    "    \n",
    "    #Make the operator measurable\n",
    "    op = StateFn(op,is_measurement = True)\n",
    "    \n",
    "    # create the wavefunction\n",
    "    wfn = CircuitStateFn(ansatz(n_qubits,params))\n",
    "    braket = op @ wfn\n",
    "    \n",
    "    # Simulate the sampling\n",
    "    grouped = PauliExpectation().convert(braket)\n",
    "    sampled_op = CircuitSampler(instance).convert(grouped)\n",
    "    \n",
    "    # Expectation value\n",
    "    mean_value = sampled_op.eval().real\n",
    "    est_err = 0\n",
    "    \n",
    "    # If the simulations is not unitary evolution, return an error bar\n",
    "    if (not instance.is_statevector):\n",
    "        variance = PauliExpectation().compute_variance(sampled_op).real\n",
    "        est_err  = np.sqrt(variance/shots)\n",
    "\n",
    "    return mean_value, est_err"
   ]
  },
  {
   "cell_type": "markdown",
   "metadata": {},
   "source": [
    "### Measuring derivatives\n",
    "\n",
    "Now things get interesting! In order to optimize our parameters, a quantum computer has to give to classical optimizer important information such as first- or second-order derivatives! But how can we measure the derivative wrt to a specific parameter on a quantum circuit?\n",
    "\n",
    "$$\n",
    "\\frac{\\partial }{\\partial w_i} L(w) = \\frac{\\partial }{\\partial w_i} \\langle \\psi(w) | H | \\psi(w) \\rangle\n",
    "$$\n",
    "\n",
    "many different methods have been proposed recently, in this case we are going to see a method  that is called _parameter shift_:\n",
    "\n",
    "- assume that every parametrized gate is of the form $$ U_j(w_j) = e^{-i w_j G_j}= \\cos(w_j)\\mathbf{I} -i \\sin(w_j)G_j$$ where $G_j$ is an operator such that $G_{j}^{2} = \\mathbf{I}$\n",
    "\n",
    "- then the derivative can be expressed as $$ \\frac{\\partial }{\\partial w_i} L(w) = \\frac{L(w+ e_i s)-L(w-e_is)}{2\\sin(s)}  $$ where $s \\in \\mathbf{R}$ and $e_i$ indicates the versor in the $i$-th direction. In our case we are going to consider $s= \\frac{\\pi}{2}$.\n",
    "\n",
    "This means that to calculate the gradient with $N_p$ parameters, we have to measure $H$ on $2N_p$ different circuits, but it's possible!\n",
    "\n",
    "Note that the assumption we made is quite general: $G_j$ could be every tensor product of Pauli operators\n",
    "\n"
   ]
  },
  {
   "cell_type": "code",
   "execution_count": 5,
   "metadata": {},
   "outputs": [],
   "source": [
    "#useful function to shift the parameters\n",
    "def ei(i,n):\n",
    "    vi = np.zeros(n)\n",
    "    vi[i] = 1.0\n",
    "    return vi[:]\n",
    "\n",
    "\n",
    "def gradient(n_qubits,op,ansatz,params,shots,instance):\n",
    "    \n",
    "    n_params = len(params)\n",
    "    wfn_circuits = []\n",
    "    op = StateFn(op,is_measurement = True)\n",
    "    \n",
    "    for i in range(n_params):\n",
    "        wfn_circuits.append(CircuitStateFn(ansatz(n_qubits,params+ei(i,n_params)*np.pi/2.0)))\n",
    "        wfn_circuits.append(CircuitStateFn(ansatz(n_qubits,params-ei(i,n_params)*np.pi/2.0)))\n",
    "\n",
    "    # Now measure circuits\n",
    "    results = []\n",
    "    for wfn in wfn_circuits:\n",
    "        braket = op @ wfn\n",
    "    \n",
    "        # Simulate the sampling\n",
    "        grouped = PauliExpectation().convert(braket)\n",
    "        sampled_op = CircuitSampler(instance).convert(grouped)\n",
    "    \n",
    "        # Expectation value\n",
    "        mean_value = sampled_op.eval().real\n",
    "        est_err = 0\n",
    "    \n",
    "        # If the simulations is not unitary evolution, return an error bar\n",
    "        if (not instance.is_statevector):\n",
    "            variance = PauliExpectation().compute_variance(sampled_op).real\n",
    "            est_err  = np.sqrt(variance/shots)\n",
    "\n",
    "        results.append([mean_value, est_err])\n",
    "    \n",
    "    g = np.zeros((n_params,2))\n",
    "    for i in range(n_params):\n",
    "        rplus  = results[2*i]\n",
    "        rminus = results[2*i+1]\n",
    "        # G      = (Ep - Em)/2\n",
    "        # var(G) = var(Ep) * (dG/dEp)**2 + var(Em) * (dG/dEm)**2\n",
    "        g[i,:] = (rplus[0]-rminus[0])/2.0,np.sqrt(rplus[1]**2+rminus[1]**2)/2.0\n",
    "\n",
    "    return g"
   ]
  },
  {
   "cell_type": "markdown",
   "metadata": {},
   "source": [
    "### The algorithm\n",
    "\n",
    "Now we declare a function to repeat iteratively the procedure of measuring energy, its gradient and then optimizing the parameters using a standard gradient descent technique, namely $$ w_{new}= w_{old} - \\eta \\nabla_{w} L(w)$$ with $\\eta \\in \\mathbf{R}$ as the learning rate."
   ]
  },
  {
   "cell_type": "code",
   "execution_count": 6,
   "metadata": {},
   "outputs": [],
   "source": [
    "def VQE(n_qubits,op,ansatz,params,shots,instance,lr,n_reps):\n",
    "    \n",
    "    log ={}\n",
    "    log['energies'] = []\n",
    "    log['err_energies'] = []\n",
    "    log['gradients'] = []\n",
    "    \n",
    "    curr_params = params\n",
    "    for i in range(n_reps):\n",
    "        #Measure energy and save it\n",
    "        E = energy(n_qubits,op,ansatz,curr_params,shots,instance)\n",
    "        \n",
    "        print('Run number: ',i+1)\n",
    "        print('Energy:', E[0])\n",
    "        print('========================= \\n')\n",
    "        log['energies'].append(E[0])\n",
    "        log['err_energies'].append(E[1])\n",
    "        \n",
    "        #Measure gradients\n",
    "        g = gradient(n_qubits,op,ansatz,curr_params,shots,instance)\n",
    "        \n",
    "        log['gradients'].append(g[:,0])\n",
    "        print(g)\n",
    "        \n",
    "        #Update parameters\n",
    "        \n",
    "        curr_params = curr_params - lr*g[:,0]\n",
    "        \n",
    "    return log"
   ]
  },
  {
   "cell_type": "markdown",
   "metadata": {},
   "source": [
    "### Run and plots the results"
   ]
  },
  {
   "cell_type": "code",
   "execution_count": 7,
   "metadata": {},
   "outputs": [],
   "source": [
    "from qiskit.aqua      import QuantumInstance\n",
    "from qiskit           import IBMQ, Aer\n",
    "\n",
    "# Fix important parameters and the instance\n",
    "\n",
    "n_qubits = 2\n",
    "params   = np.zeros(4)\n",
    "shots    = 1\n",
    "n_reps   = 12\n",
    "lr       = 2\n",
    "\n",
    "\n",
    "\n",
    "backend  = Aer.get_backend('statevector_simulator')\n",
    "instance = QuantumInstance(backend=backend,shots=shots)"
   ]
  },
  {
   "cell_type": "code",
   "execution_count": 8,
   "metadata": {},
   "outputs": [
    {
     "name": "stdout",
     "output_type": "stream",
     "text": [
      "Run number:  1\n",
      "Energy: 0.8071520000000001\n",
      "========================= \n",
      "\n",
      "[[1.80931000e-01 0.00000000e+00]\n",
      " [5.55111512e-17 0.00000000e+00]\n",
      " [5.55111512e-17 0.00000000e+00]\n",
      " [5.55111512e-17 0.00000000e+00]]\n",
      "Run number:  2\n",
      "Energy: 0.6915582297299095\n",
      "========================= \n",
      "\n",
      "[[ 4.50965406e-01  0.00000000e+00]\n",
      " [-2.77555756e-17  0.00000000e+00]\n",
      " [ 0.00000000e+00  0.00000000e+00]\n",
      " [ 2.77555756e-17  0.00000000e+00]]\n",
      "Run number:  3\n",
      "Energy: 0.07932411681514984\n",
      "========================= \n",
      "\n",
      "[[ 8.13337731e-01  0.00000000e+00]\n",
      " [-6.93889390e-18  0.00000000e+00]\n",
      " [-1.38777878e-17  0.00000000e+00]\n",
      " [ 4.16333634e-17  0.00000000e+00]]\n",
      "Run number:  4\n",
      "Energy: -0.8045885152818031\n",
      "========================= \n",
      "\n",
      "[[ 2.25129500e-02  0.00000000e+00]\n",
      " [ 5.55111512e-17  0.00000000e+00]\n",
      " [-2.77555756e-17  0.00000000e+00]\n",
      " [-5.55111512e-17  0.00000000e+00]]\n",
      "Run number:  5\n",
      "Energy: -0.8047749603158991\n",
      "========================= \n",
      "\n",
      "[[-1.42326698e-02  0.00000000e+00]\n",
      " [-1.66533454e-16  0.00000000e+00]\n",
      " [ 0.00000000e+00  0.00000000e+00]\n",
      " [-8.32667268e-17  0.00000000e+00]]\n",
      "Run number:  6\n",
      "Energy: -0.8048494510139744\n",
      "========================= \n",
      "\n",
      "[[ 8.99924067e-03  0.00000000e+00]\n",
      " [ 8.32667268e-17  0.00000000e+00]\n",
      " [ 0.00000000e+00  0.00000000e+00]\n",
      " [-1.38777878e-16  0.00000000e+00]]\n",
      "Run number:  7\n",
      "Energy: -0.8048792278404567\n",
      "========================= \n",
      "\n",
      "[[-5.69051455e-03  0.00000000e+00]\n",
      " [-1.38777878e-16  0.00000000e+00]\n",
      " [ 1.11022302e-16  0.00000000e+00]\n",
      " [ 1.66533454e-16  0.00000000e+00]]\n",
      "Run number:  8\n",
      "Energy: -0.8048911332604288\n",
      "========================= \n",
      "\n",
      "[[ 3.59838539e-03  0.00000000e+00]\n",
      " [ 1.66533454e-16  0.00000000e+00]\n",
      " [-2.22044605e-16  0.00000000e+00]\n",
      " [-2.22044605e-16  0.00000000e+00]]\n",
      "Run number:  9\n",
      "Energy: -0.8048958936991908\n",
      "========================= \n",
      "\n",
      "[[-2.27545365e-03  0.00000000e+00]\n",
      " [-2.22044605e-16  0.00000000e+00]\n",
      " [ 2.49800181e-16  0.00000000e+00]\n",
      " [ 1.94289029e-16  0.00000000e+00]]\n",
      "Run number:  10\n",
      "Energy: -0.8048977972462596\n",
      "========================= \n",
      "\n",
      "[[ 1.43889793e-03  0.00000000e+00]\n",
      " [ 5.55111512e-17  0.00000000e+00]\n",
      " [-1.66533454e-16  0.00000000e+00]\n",
      " [-1.11022302e-16  0.00000000e+00]]\n",
      "Run number:  11\n",
      "Energy: -0.8048985584238697\n",
      "========================= \n",
      "\n",
      "[[-9.09897870e-04  0.00000000e+00]\n",
      " [-8.32667268e-17  0.00000000e+00]\n",
      " [ 5.55111512e-17  0.00000000e+00]\n",
      " [ 2.77555756e-17  0.00000000e+00]]\n",
      "Run number:  12\n",
      "Energy: -0.8048988628000678\n",
      "========================= \n",
      "\n",
      "[[5.75381081e-04 0.00000000e+00]\n",
      " [0.00000000e+00 0.00000000e+00]\n",
      " [0.00000000e+00 0.00000000e+00]\n",
      " [2.77555756e-17 0.00000000e+00]]\n"
     ]
    }
   ],
   "source": [
    "#Run the algorithm\n",
    "res = VQE(n_qubits,H,RY_ansatz,params,shots,instance,lr,n_reps)"
   ]
  },
  {
   "cell_type": "code",
   "execution_count": 12,
   "metadata": {},
   "outputs": [
    {
     "data": {
      "image/png": "[encoded data removed]",
      "text/plain": [
       "<Figure size 432x288 with 1 Axes>"
      ]
     },
     "metadata": {
      "needs_background": "light"
     },
     "output_type": "display_data"
    }
   ],
   "source": [
    "##Plot the results\n",
    "\n",
    "steps = list(range(n_reps))\n",
    "\n",
    "plt.plot(steps,res['energies'],marker='o',linestyle='dashed')\n",
    "plt.hlines(-1.175, xmin= 0.0, xmax=  11,label='Theoretical energy',linestyle ='dashed',color='grey')\n",
    "plt.xlabel('Step')\n",
    "plt.ylabel('Energy')\n",
    "plt.grid(True)\n",
    "\n",
    "plt.show()"
   ]
  },
  {
   "cell_type": "markdown",
   "metadata": {},
   "source": [
    "We can see that after a few steps it reaches a minimum and stabilizes there. \n",
    "\n",
    "\n",
    "### _Why don't we reach the theoretical value?_\n",
    "\n",
    "This questions has a lot of possible answers:\n",
    "\n",
    "- the ansatz does not fit the real system\n",
    "- the basis set chosen (in this case $\\text{STO}$-$3G$) is too small or inadequate for the system ( a very chemical problem!!)  \n",
    "- we are not considering the contribution to the energy from the nuclear repulsion (though this is a positive shift and does not help in this case)\n",
    "- and more $\\dots$\n",
    "\n",
    "Quantum chemistry on quantum computers is not an easy task, but a very promising and exciting application of quantum devices in the near future!"
   ]
  },
  {
   "cell_type": "markdown",
   "metadata": {},
   "source": [
    "### References for VQE in Qiksit\n",
    "\n",
    "- For the [method](https://qiskit.org/documentation/stubs/qiskit.aqua.algorithms.VQE.html) \n",
    "- For the [optimizers](https://qiskit.org/documentation/apidoc/qiskit.aqua.components.optimizers.html)"
   ]
  },
  {
   "cell_type": "code",
   "execution_count": null,
   "metadata": {},
   "outputs": [],
   "source": []
  },
  {
   "cell_type": "code",
   "execution_count": null,
   "metadata": {},
   "outputs": [],
   "source": []
  }
 ],
 "metadata": {
  "kernelspec": {
   "display_name": "Python 3",
   "language": "python",
   "name": "python3"
  },
  "language_info": {
   "codemirror_mode": {
    "name": "ipython",
    "version": 3
   },
   "file_extension": ".py",
   "mimetype": "text/x-python",
   "name": "python",
   "nbconvert_exporter": "python",
   "pygments_lexer": "ipython3",
   "version": "3.7.4"
  }
 },
 "nbformat": 4,
 "nbformat_minor": 4
}
