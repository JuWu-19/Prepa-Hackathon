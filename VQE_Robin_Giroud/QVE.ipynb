{
 "cells": [
  {
   "cell_type": "code",
   "execution_count": 44,
   "metadata": {},
   "outputs": [],
   "source": [
    "from qiskit import *\n",
    "from math import *\n",
    "\n",
    "#----------Pour simulation noiseless---------------\n",
    "%matplotlib inline\n",
    "from qiskit.tools.visualization import plot_histogram\n",
    "QASM_simulator = Aer.get_backend('qasm_simulator')\n"
   ]
  },
  {
   "cell_type": "raw",
   "metadata": {},
   "source": [
    "alpha = sqrt(2)\n",
    "normalisation = sqrt(2*(1+(1-alpha)*(1-alpha)))\n",
    "\n",
    "starting_vector = [\n",
    "   (1-alpha)/normalisation,\n",
    "    1/normalisation,\n",
    "    1/normalisation,\n",
    "   (1-alpha)/normalisation]\n",
    "   \n",
    "   ATTENTION: \n",
    "   [ \n",
    "   |00>,\n",
    "   |10>,\n",
    "   |01>,\n",
    "   |11>]"
   ]
  },
  {
   "cell_type": "code",
   "execution_count": 393,
   "metadata": {},
   "outputs": [
    {
     "data": {
      "image/png": "[encoded data removed]",
      "text/plain": [
       "<Figure size 818.72x204.68 with 1 Axes>"
      ]
     },
     "execution_count": 393,
     "metadata": {},
     "output_type": "execute_result"
    }
   ],
   "source": [
    "import math\n",
    "\n",
    "\n",
    "alpha = sqrt(2)\n",
    "normalisation = sqrt(2*(1+(1-alpha)*(1-alpha)))\n",
    "\n",
    "starting_vector = [\n",
    "   (1-alpha)/normalisation,\n",
    "    1/normalisation,\n",
    "    1/normalisation,\n",
    "   (1-alpha)/normalisation]\n",
    "\n",
    "n = 2 #number of qubit\n",
    "\n",
    "circuit = QuantumCircuit(n, n, name=\"initializer_circ\")\n",
    "circuit.initialize(starting_vector, [0, 1])\n",
    "\n",
    "circuit.h(0)\n",
    "\n",
    "circuit.draw(output='mpl')"
   ]
  },
  {
   "cell_type": "code",
   "execution_count": 394,
   "metadata": {
    "scrolled": true
   },
   "outputs": [
    {
     "data": {
      "image/png": "[encoded data removed]",
      "text/plain": [
       "<Figure size 504x360 with 1 Axes>"
      ]
     },
     "execution_count": 394,
     "metadata": {},
     "output_type": "execute_result"
    }
   ],
   "source": [
    "circuit.measure(range(n), range(n))\n",
    "result = execute(circuit, backend=QASM_simulator, shots = 10000).result()\n",
    "counts = result.get_counts(circuit)\n",
    "plot_histogram(counts)"
   ]
  },
  {
   "cell_type": "code",
   "execution_count": 395,
   "metadata": {},
   "outputs": [
    {
     "name": "stdout",
     "output_type": "stream",
     "text": [
      "Exp_value = 0.003\n"
     ]
    },
    {
     "data": {
      "text/plain": [
       "{'00': 10000, '10': -7122, '01': -40, '11': 30}"
      ]
     },
     "execution_count": 395,
     "metadata": {},
     "output_type": "execute_result"
    }
   ],
   "source": [
    "import qiskit.ignis.verification.tomography as tomo\n",
    "exp_val_counts = tomo.expectation_counts(counts)\n",
    "exp_vals = exp_val_counts.get('11') / exp_val_counts.get('00') \n",
    "print('Exp_value = {}'.format( exp_vals))\n",
    "exp_val_counts"
   ]
  },
  {
   "cell_type": "code",
   "execution_count": 396,
   "metadata": {},
   "outputs": [
    {
     "data": {
      "text/plain": [
       "-0.7122"
      ]
     },
     "execution_count": 396,
     "metadata": {},
     "output_type": "execute_result"
    }
   ],
   "source": [
    "A = 0\n",
    "if counts.get('00'):\n",
    "    A = A + counts.get('00')\n",
    "if counts.get('01'):\n",
    "    A = A - counts.get('01')\n",
    "if counts.get('10'):\n",
    "    A = A + counts.get('10')\n",
    "if counts.get('11'):\n",
    "    A = A - counts.get('11')\n",
    "A = A / 10000\n",
    "A"
   ]
  },
  {
   "cell_type": "code",
   "execution_count": 262,
   "metadata": {},
   "outputs": [],
   "source": [
    "A =  exp_val_counts.get('10') / exp_val_counts.get('00') \n",
    "B =  exp_val_counts.get('01') / exp_val_counts.get('00') \n",
    "C =  exp_val_counts.get('11') / exp_val_counts.get('00') "
   ]
  },
  {
   "cell_type": "code",
   "execution_count": 244,
   "metadata": {},
   "outputs": [],
   "source": [
    "B = (counts.get('00')+ counts.get('01')-counts.get('10')-counts.get('11'))/10000"
   ]
  },
  {
   "cell_type": "code",
   "execution_count": 67,
   "metadata": {},
   "outputs": [],
   "source": [
    "C = (counts.get('00')-counts.get('10')-counts.get('01')+counts.get('11'))/10000"
   ]
  },
  {
   "cell_type": "code",
   "execution_count": 263,
   "metadata": {},
   "outputs": [
    {
     "data": {
      "text/plain": [
       "-0.7257"
      ]
     },
     "execution_count": 263,
     "metadata": {},
     "output_type": "execute_result"
    }
   ],
   "source": [
    "Final = 0.5*(A+B)+C\n",
    "Final"
   ]
  },
  {
   "cell_type": "code",
   "execution_count": 145,
   "metadata": {},
   "outputs": [
    {
     "name": "stdout",
     "output_type": "stream",
     "text": [
      "Probabilities from simulator: \n",
      "['0.245', '0.251', '0.258', '0.247']\n"
     ]
    }
   ],
   "source": [
    "qubit_strings = [format(i, '0%sb' % 2) for\n",
    "                 i in range(2 ** 2)]\n",
    "print(\"Probabilities from simulator: \")\n",
    "print([format(counts.get(s, 0) / 10000, '.3f') for\n",
    "       s in qubit_strings])"
   ]
  },
  {
   "cell_type": "code",
   "execution_count": 342,
   "metadata": {},
   "outputs": [
    {
     "data": {
      "text/plain": [
       "1.0"
      ]
     },
     "execution_count": 342,
     "metadata": {},
     "output_type": "execute_result"
    }
   ],
   "source": []
  },
  {
   "cell_type": "code",
   "execution_count": null,
   "metadata": {},
   "outputs": [],
   "source": []
  },
  {
   "cell_type": "code",
   "execution_count": null,
   "metadata": {},
   "outputs": [],
   "source": []
  },
  {
   "cell_type": "code",
   "execution_count": null,
   "metadata": {},
   "outputs": [],
   "source": []
  },
  {
   "cell_type": "code",
   "execution_count": null,
   "metadata": {},
   "outputs": [],
   "source": []
  }
 ],
 "metadata": {
  "kernelspec": {
   "display_name": "Python 3",
   "language": "python",
   "name": "python3"
  },
  "language_info": {
   "codemirror_mode": {
    "name": "ipython",
    "version": 3
   },
   "file_extension": ".py",
   "mimetype": "text/x-python",
   "name": "python",
   "nbconvert_exporter": "python",
   "pygments_lexer": "ipython3",
   "version": "3.9.2"
  }
 },
 "nbformat": 4,
 "nbformat_minor": 4
}
