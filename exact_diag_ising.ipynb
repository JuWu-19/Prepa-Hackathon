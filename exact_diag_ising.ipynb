{
 "cells": [
  {
   "cell_type": "markdown",
   "metadata": {},
   "source": [
    "**Part one: transverse Ising model $(J, h)$ phase diagram (without symmetries)**\n",
    "\n",
    "First, let us form the many-body Hamiltonian of the form ($J = 1$, periodic BC):\n",
    "$$\\hat H = \\sum\\limits_{i=0}^{N - 1} \\sigma_i^z \\sigma_{i + 1}^z + h \\sum\\limits_i \\sigma^x.$$\n",
    "\n",
    "We will construct the Hamiltonian matrix in the $\\sigma^z$ basis of the $2^N$--dimensional Hilbert space. We employ the _bitstring represenation_: the basis element number $k$ should be written in the binary representation to get the individual spin orientations. \n",
    "\n",
    "For instance, the basis element $k = 415 = 256 + 128 + 16 + 8 + 4 + 2 + 1$ with $N = 10$ spins would correspond to the bitstring (-1, 1, 1, -1, -1, 1, 1, 1, 1, 1), meaning, 0-th, 3-rd and 4-th spins are down, others up.\n",
    "\n",
    "First, please construct the first term:"
   ]
  },
  {
   "cell_type": "code",
   "execution_count": 1,
   "metadata": {},
   "outputs": [],
   "source": [
    "import numpy as np\n",
    "import scipy as sp\n",
    "\n",
    "sigma_x = np.array([[0, 1], [1, 0]])\n",
    "sigma_y = np.array([[0, 1j], [-1j, 0]])\n",
    "sigma_z = np.diag([1, -1])\n",
    "sigma_0 = np.eye(2)\n",
    "N = 3  # the number of spins in the system\n",
    "\n",
    "def fill_identities(h_local, begin, end):\n",
    "    if end <= begin:\n",
    "        return h_local\n",
    "    return np.kron(np.eye(2 ** (end - begin)), h_local)\n",
    "\n",
    "\n",
    "def hamiltonian_j(N):\n",
    "    H = np.zeros((2 ** N, 2 ** N), dtype=np.complex128)  # shape of the full many-body N-spins hamiltonian\n",
    "    for i in range(N - 1):  # loop over all spins except the boundary pair\n",
    "        h_local = np.eye(1, dtype=np.complex128)\n",
    "        h_local = fill_identities(h_local, 0, i)\n",
    "            \n",
    "        h_local = np.kron(sigma_z, h_local)\n",
    "        h_local = np.kron(sigma_z, h_local)\n",
    "\n",
    "        h_local = fill_identities(h_local, i + 2, N)\n",
    "        H += h_local\n",
    "    \n",
    "    h_local = sigma_z  # now fix the boundary\n",
    "    h_local = fill_identities(h_local, 1, N - 1)\n",
    "        \n",
    "    h_local = np.kron(sigma_z, h_local)\n",
    "    H += h_local\n",
    "    return H.real"
   ]
  },
  {
   "cell_type": "markdown",
   "metadata": {},
   "source": [
    "Then please construct the transverse field term with $h = 1$:"
   ]
  },
  {
   "cell_type": "code",
   "execution_count": 2,
   "metadata": {},
   "outputs": [],
   "source": [
    "def hamiltonian_h(N):\n",
    "    H = np.zeros((2 ** N, 2 ** N), dtype=np.complex128)  # shape of the full many-body N-spins hamiltonian\n",
    "    for i in range(N):  # the h-term\n",
    "        h_local = np.eye(1, dtype=np.complex128)\n",
    "        h_local = fill_identities(h_local, 0, i)\n",
    "        h_local = np.kron(sigma_x, h_local)\n",
    "        h_local = fill_identities(h_local, i + 1, N)\n",
    "        H += h_local\n",
    "    return H.real"
   ]
  },
  {
   "cell_type": "code",
   "execution_count": 3,
   "metadata": {},
   "outputs": [
    {
     "name": "stdout",
     "output_type": "stream",
     "text": [
      "[[0. 1. 1. 0. 1. 0. 0. 0.]\n",
      " [1. 0. 0. 1. 0. 1. 0. 0.]\n",
      " [1. 0. 0. 1. 0. 0. 1. 0.]\n",
      " [0. 1. 1. 0. 0. 0. 0. 1.]\n",
      " [1. 0. 0. 0. 0. 1. 1. 0.]\n",
      " [0. 1. 0. 0. 1. 0. 0. 1.]\n",
      " [0. 0. 1. 0. 1. 0. 0. 1.]\n",
      " [0. 0. 0. 1. 0. 1. 1. 0.]]\n"
     ]
    }
   ],
   "source": [
    "H_j = hamiltonian_j(N)  # obtain the j-part (remains unchanged)\n",
    "H_h = hamiltonian_h(N)  # obtain normalized h--part\n",
    "print(H_h)"
   ]
  },
  {
   "cell_type": "markdown",
   "metadata": {},
   "source": [
    "Now obtain the low-energy spectrum of the model:"
   ]
  },
  {
   "cell_type": "code",
   "execution_count": 4,
   "metadata": {},
   "outputs": [],
   "source": [
    "# obtain the low-energy spectrum of the model\n",
    "n_low_levels = 8\n",
    "h_vals = np.linspace(-2, 2, 40)\n",
    "levels = []\n",
    "\n",
    "for h in h_vals:\n",
    "    H = H_j + H_h * h  # construct the total Hamiltonian\n",
    "    energies_h, _ = np.linalg.eigh(H)\n",
    "    levels.append(energies_h[:n_low_levels])\n",
    "levels = np.array(levels)"
   ]
  },
  {
   "cell_type": "code",
   "execution_count": 5,
   "metadata": {},
   "outputs": [
    {
     "name": "stdout",
     "output_type": "stream",
     "text": [
      "[[ 3.  1.  1.  0.  1.  0.  0.  0.]\n",
      " [ 1. -1.  0.  1.  0.  1.  0.  0.]\n",
      " [ 1.  0. -1.  1.  0.  0.  1.  0.]\n",
      " [ 0.  1.  1. -1.  0.  0.  0.  1.]\n",
      " [ 1.  0.  0.  0. -1.  1.  1.  0.]\n",
      " [ 0.  1.  0.  0.  1. -1.  0.  1.]\n",
      " [ 0.  0.  1.  0.  1.  0. -1.  1.]\n",
      " [ 0.  0.  0.  1.  0.  1.  1.  3.]]\n",
      "[-3.46410162e+00 -2.00000000e+00 -2.00000000e+00 -4.72197789e-16\n",
      " -1.31221193e-16  1.59329772e-16  3.46410162e+00  4.00000000e+00]\n"
     ]
    }
   ],
   "source": [
    "h=1\n",
    "H = H_j + H_h * h\n",
    "print(H)\n",
    "energies_h, _ = np.linalg.eigh(H)\n",
    "print(energies_h)"
   ]
  },
  {
   "cell_type": "markdown",
   "metadata": {},
   "source": [
    "Plot the obtained energy spectrum as a function of $h / J$:"
   ]
  },
  {
   "cell_type": "code",
   "execution_count": 22,
   "metadata": {},
   "outputs": [
    {
     "name": "stdout",
     "output_type": "stream",
     "text": [
      "[-6.29150262 -5.99555276 -5.70055689 -5.40663183 -5.11391347 -4.82256058\n",
      " -4.53275962 -4.24473056 -3.95873429 -3.67508171 -3.39414516 -3.11637261\n",
      " -2.84230529 -2.5725993  -2.30805174 -2.04963136 -1.7985128  -1.55611152\n",
      " -1.32411323 -1.10448628 -1.10448628 -1.32411323 -1.55611152 -1.7985128\n",
      " -2.04963136 -2.30805174 -2.5725993  -2.84230529 -3.11637261 -3.39414516\n",
      " -3.67508171 -3.95873429 -4.24473056 -4.53275962 -4.82256058 -5.11391347\n",
      " -5.40663183 -5.70055689 -5.99555276 -6.29150262]\n"
     ]
    },
    {
     "data": {
      "image/png": "[encoded data removed]",
      "text/plain": [
       "<Figure size 432x288 with 1 Axes>"
      ]
     },
     "metadata": {
      "needs_background": "light"
     },
     "output_type": "display_data"
    }
   ],
   "source": [
    "import matplotlib.pyplot as plt\n",
    "%matplotlib inline\n",
    "print(levels[:, 0])\n",
    "for level in range(n_low_levels):\n",
    "    plt.scatter(h_vals, levels[:, level] / N - levels[:, 0] / N, marker='*', s = 10.)\n",
    "plt.grid(True)\n",
    "plt.xlabel('h / J')\n",
    "plt.ylabel('(E - E_0) / J per spin')\n",
    "plt.show()"
   ]
  },
  {
   "cell_type": "markdown",
   "metadata": {},
   "source": [
    "As $|h| < J$, the system is in the antiferromagnetic phase, the lowest two states with momenta $k = 0$ and $k = \\pi$ are degenerate. At $|h| > J$ the system undergoes phase transition to the paramagnetic phase, where this degeneracy is broken.\n",
    "\n",
    "The transverse fiend Ising Hamiltonian has many symmetries. Finding the symmetry essentially means finding another basis where the hamiltonian takes the _block-diagonal form_. Among the possible symmetries, there are:\n",
    "\n",
    "1) Flipping all spins with the operator $\\hat{A} = \\otimes_i \\sigma_i^x$,\n",
    "\n",
    "2) Total magnetisation conservation with the operator $\\hat M = \\sum\\limits_i \\sigma_i^z$ (only at h = 0),\n",
    "\n",
    "3) Translation symmetry $\\hat T: i \\to i + 1\\,\\mbox{mod N}$ with a rather non-local operator form.\n",
    "\n",
    "If the Hamiltonian has a symmetry $[\\hat H, \\hat A] = 0$ (block-diagonal form in some basis), $\\hat H$ and $\\hat A$ can be diagonalized simultaineously. This means that the Hamiltonian does not mix the eigenstates from sectors with different eigenvalues of $\\hat A$. This fact allows one to search for $\\hat H$ eigenstates in the sectors of $\\hat A$ eigenvalues one-by-one, which might significantly reduce the ED-complexity."
   ]
  },
  {
   "cell_type": "markdown",
   "metadata": {},
   "source": [
    "As the end of the first excersize, please constuct the operators for the symmetries (1) and (2) and explicitly check that $[\\hat H, \\hat A] = 0$ for both of them.\n",
    "\n",
    "We start with the flipping symmetry:"
   ]
  },
  {
   "cell_type": "code",
   "execution_count": 16,
   "metadata": {},
   "outputs": [],
   "source": [
    "A = np.eye(1)\n",
    "H = H_j + H_h * np.random.uniform(-2, 2)  # hamiltonian with arbitrary value of field h\n",
    "\n",
    "# construct the A--operator\n",
    "for i in range(N):\n",
    "    A = np.kron(sigma_x, A)\n",
    "    \n",
    "assert np.allclose(H.dot(A), A.dot(H))"
   ]
  },
  {
   "cell_type": "markdown",
   "metadata": {},
   "source": [
    "We proceed with the total magnetisation operator M, which is the symmetry only for $h = 0$:"
   ]
  },
  {
   "cell_type": "code",
   "execution_count": 17,
   "metadata": {},
   "outputs": [],
   "source": [
    "M = np.zeros((2 ** N, 2 ** N))\n",
    "H = H_j + H_h * np.random.uniform(-1, 1)  # hamiltonian with arbitrary value of field h\n",
    "\n",
    "# construct the M--operator\n",
    "for i in range(N):\n",
    "    m_local = np.eye(1)\n",
    "    m_local = fill_identities(m_local, 0, i)\n",
    "    m_local = np.kron(sigma_z, m_local)\n",
    "    m_local = fill_identities(m_local, i + 1, N)\n",
    "    M += m_local\n",
    "    \n",
    "assert not np.allclose(H.dot(M), M.dot(H))\n",
    "assert np.allclose(H_j.dot(M), M.dot(H_j))"
   ]
  },
  {
   "cell_type": "code",
   "execution_count": null,
   "metadata": {},
   "outputs": [],
   "source": []
  },
  {
   "cell_type": "code",
   "execution_count": null,
   "metadata": {},
   "outputs": [],
   "source": []
  }
 ],
 "metadata": {
  "kernelspec": {
   "display_name": "Python 3",
   "language": "python",
   "name": "python3"
  },
  "language_info": {
   "codemirror_mode": {
    "name": "ipython",
    "version": 3
   },
   "file_extension": ".py",
   "mimetype": "text/x-python",
   "name": "python",
   "nbconvert_exporter": "python",
   "pygments_lexer": "ipython3",
   "version": "3.9.2"
  }
 },
 "nbformat": 4,
 "nbformat_minor": 4
}
